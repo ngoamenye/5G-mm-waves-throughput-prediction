{
 "cells": [
  {
   "cell_type": "markdown",
   "id": "f5b608cf",
   "metadata": {},
   "source": [
    "# 04_offline_tf_cnn_lstm_notebook.ipynb\n",
    "Offline Training and Evaluation of CNN+LSTM TensorFlow Model\n",
    "This notebook trains a CNN+LSTM model on 5G throughput data, visualizes loss curves, computes metrics, and displays a Run 14 heatmap."
   ]
  },
  {
   "cell_type": "markdown",
   "id": "f304f732",
   "metadata": {},
   "source": [
    "## 1. Imports and Configuration"
   ]
  },
  {
   "cell_type": "code",
   "execution_count": 3,
   "id": "947b345e",
   "metadata": {},
   "outputs": [],
   "source": [
    "import os\n",
    "import numpy as np\n",
    "import pandas as pd\n",
    "import joblib\n",
    "import tensorflow as tf\n",
    "from tensorflow.keras import layers, models, callbacks\n",
    "from sklearn.preprocessing import MinMaxScaler\n",
    "from sklearn.model_selection import train_test_split\n",
    "from sklearn.metrics import mean_squared_error, mean_absolute_error, r2_score\n",
    "import matplotlib.pyplot as plt\n",
    "import folium\n",
    "from folium.plugins import HeatMap\n",
    "\n",
    "# Create directories\n",
    "os.makedirs('models', exist_ok=True)\n",
    "os.makedirs('outputs', exist_ok=True)"
   ]
  },
  {
   "cell_type": "markdown",
   "id": "69f4eb28",
   "metadata": {},
   "source": [
    "## 2. Load and Preprocess Data"
   ]
  },
  {
   "cell_type": "code",
   "execution_count": 4,
   "id": "b7731242",
   "metadata": {},
   "outputs": [],
   "source": [
    "# Load dataset\n",
    "df = pd.read_csv('mm-5G-enriched.csv')\n",
    "df.drop(columns=['debit_class'], inplace=True, errors='ignore')\n",
    "\n",
    "# Rolling window parameters\n",
    "SEQ_LEN = 10\n",
    "targets = ['debit_brut', 'debit_lisse']\n",
    "features = df.select_dtypes(include=[np.number]).columns.drop(targets).tolist()\n",
    "\n",
    "# Build sequences\n",
    "X, y_raw, y_smooth, runs = [], [], [], []\n",
    "for run_id, grp in df.groupby('run_num'):\n",
    "    grp = grp.reset_index(drop=True)\n",
    "    for i in range(len(grp) - SEQ_LEN):\n",
    "        X.append(grp.loc[i:i+SEQ_LEN-1, features].values)\n",
    "        y_raw.append(grp.loc[i+SEQ_LEN, 'debit_brut'])\n",
    "        y_smooth.append(grp.loc[i+SEQ_LEN, 'debit_lisse'])\n",
    "        runs.append(run_id)\n",
    "\n",
    "X = np.stack(X)\n",
    "y_raw = np.array(y_raw)\n",
    "y_smooth = np.array(y_smooth)\n",
    "runs = np.array(runs)\n",
    "\n",
    "# Scale features\n",
    "ns, _, nf = X.shape\n",
    "scaler = MinMaxScaler()\n",
    "X_flat = scaler.fit_transform(X.reshape(-1, nf))\n",
    "X = X_flat.reshape(ns, SEQ_LEN, nf)\n",
    "\n",
    "# Save scaler\n",
    "joblib.dump(scaler, 'models/scaler.gz')\n",
    "\n",
    "# Train/validation split\n",
    "X_train, X_val, y_raw_train, y_raw_val, y_smooth_train, y_smooth_val, runs_train, runs_val = train_test_split(\n",
    "    X, y_raw, y_smooth, runs, test_size=0.2, random_state=42, shuffle=False\n",
    ")"
   ]
  },
  {
   "cell_type": "markdown",
   "id": "c409a1b1",
   "metadata": {},
   "source": [
    "## 3. Build and Compile Model"
   ]
  },
  {
   "cell_type": "code",
   "execution_count": 5,
   "id": "1d88ed7f",
   "metadata": {},
   "outputs": [
    {
     "data": {
      "text/html": [
       "<pre style=\"white-space:pre;overflow-x:auto;line-height:normal;font-family:Menlo,'DejaVu Sans Mono',consolas,'Courier New',monospace\"><span style=\"font-weight: bold\">Model: \"functional\"</span>\n",
       "</pre>\n"
      ],
      "text/plain": [
       "\u001b[1mModel: \"functional\"\u001b[0m\n"
      ]
     },
     "metadata": {},
     "output_type": "display_data"
    },
    {
     "data": {
      "text/html": [
       "<pre style=\"white-space:pre;overflow-x:auto;line-height:normal;font-family:Menlo,'DejaVu Sans Mono',consolas,'Courier New',monospace\">┏━━━━━━━━━━━━━━━━━━━━━━━━━━━━━━━┳━━━━━━━━━━━━━━━━━━━━━━━━━━━┳━━━━━━━━━━━━━━━━━┳━━━━━━━━━━━━━━━━━━━━━━━━━━━━┓\n",
       "┃<span style=\"font-weight: bold\"> Layer (type)                  </span>┃<span style=\"font-weight: bold\"> Output Shape              </span>┃<span style=\"font-weight: bold\">         Param # </span>┃<span style=\"font-weight: bold\"> Connected to               </span>┃\n",
       "┡━━━━━━━━━━━━━━━━━━━━━━━━━━━━━━━╇━━━━━━━━━━━━━━━━━━━━━━━━━━━╇━━━━━━━━━━━━━━━━━╇━━━━━━━━━━━━━━━━━━━━━━━━━━━━┩\n",
       "│ input_layer (<span style=\"color: #0087ff; text-decoration-color: #0087ff\">InputLayer</span>)      │ (<span style=\"color: #00d7ff; text-decoration-color: #00d7ff\">None</span>, <span style=\"color: #00af00; text-decoration-color: #00af00\">10</span>, <span style=\"color: #00af00; text-decoration-color: #00af00\">25</span>)            │               <span style=\"color: #00af00; text-decoration-color: #00af00\">0</span> │ -                          │\n",
       "├───────────────────────────────┼───────────────────────────┼─────────────────┼────────────────────────────┤\n",
       "│ conv1d (<span style=\"color: #0087ff; text-decoration-color: #0087ff\">Conv1D</span>)               │ (<span style=\"color: #00d7ff; text-decoration-color: #00d7ff\">None</span>, <span style=\"color: #00af00; text-decoration-color: #00af00\">10</span>, <span style=\"color: #00af00; text-decoration-color: #00af00\">32</span>)            │           <span style=\"color: #00af00; text-decoration-color: #00af00\">2,432</span> │ input_layer[<span style=\"color: #00af00; text-decoration-color: #00af00\">0</span>][<span style=\"color: #00af00; text-decoration-color: #00af00\">0</span>]          │\n",
       "├───────────────────────────────┼───────────────────────────┼─────────────────┼────────────────────────────┤\n",
       "│ conv1d_1 (<span style=\"color: #0087ff; text-decoration-color: #0087ff\">Conv1D</span>)             │ (<span style=\"color: #00d7ff; text-decoration-color: #00d7ff\">None</span>, <span style=\"color: #00af00; text-decoration-color: #00af00\">10</span>, <span style=\"color: #00af00; text-decoration-color: #00af00\">64</span>)            │           <span style=\"color: #00af00; text-decoration-color: #00af00\">6,208</span> │ conv1d[<span style=\"color: #00af00; text-decoration-color: #00af00\">0</span>][<span style=\"color: #00af00; text-decoration-color: #00af00\">0</span>]               │\n",
       "├───────────────────────────────┼───────────────────────────┼─────────────────┼────────────────────────────┤\n",
       "│ max_pooling1d (<span style=\"color: #0087ff; text-decoration-color: #0087ff\">MaxPooling1D</span>)  │ (<span style=\"color: #00d7ff; text-decoration-color: #00d7ff\">None</span>, <span style=\"color: #00af00; text-decoration-color: #00af00\">5</span>, <span style=\"color: #00af00; text-decoration-color: #00af00\">64</span>)             │               <span style=\"color: #00af00; text-decoration-color: #00af00\">0</span> │ conv1d_1[<span style=\"color: #00af00; text-decoration-color: #00af00\">0</span>][<span style=\"color: #00af00; text-decoration-color: #00af00\">0</span>]             │\n",
       "├───────────────────────────────┼───────────────────────────┼─────────────────┼────────────────────────────┤\n",
       "│ lstm (<span style=\"color: #0087ff; text-decoration-color: #0087ff\">LSTM</span>)                   │ (<span style=\"color: #00d7ff; text-decoration-color: #00d7ff\">None</span>, <span style=\"color: #00af00; text-decoration-color: #00af00\">64</span>)                │          <span style=\"color: #00af00; text-decoration-color: #00af00\">33,024</span> │ max_pooling1d[<span style=\"color: #00af00; text-decoration-color: #00af00\">0</span>][<span style=\"color: #00af00; text-decoration-color: #00af00\">0</span>]        │\n",
       "├───────────────────────────────┼───────────────────────────┼─────────────────┼────────────────────────────┤\n",
       "│ raw (<span style=\"color: #0087ff; text-decoration-color: #0087ff\">Dense</span>)                   │ (<span style=\"color: #00d7ff; text-decoration-color: #00d7ff\">None</span>, <span style=\"color: #00af00; text-decoration-color: #00af00\">1</span>)                 │              <span style=\"color: #00af00; text-decoration-color: #00af00\">65</span> │ lstm[<span style=\"color: #00af00; text-decoration-color: #00af00\">0</span>][<span style=\"color: #00af00; text-decoration-color: #00af00\">0</span>]                 │\n",
       "├───────────────────────────────┼───────────────────────────┼─────────────────┼────────────────────────────┤\n",
       "│ smooth (<span style=\"color: #0087ff; text-decoration-color: #0087ff\">Dense</span>)                │ (<span style=\"color: #00d7ff; text-decoration-color: #00d7ff\">None</span>, <span style=\"color: #00af00; text-decoration-color: #00af00\">1</span>)                 │              <span style=\"color: #00af00; text-decoration-color: #00af00\">65</span> │ lstm[<span style=\"color: #00af00; text-decoration-color: #00af00\">0</span>][<span style=\"color: #00af00; text-decoration-color: #00af00\">0</span>]                 │\n",
       "└───────────────────────────────┴───────────────────────────┴─────────────────┴────────────────────────────┘\n",
       "</pre>\n"
      ],
      "text/plain": [
       "┏━━━━━━━━━━━━━━━━━━━━━━━━━━━━━━━┳━━━━━━━━━━━━━━━━━━━━━━━━━━━┳━━━━━━━━━━━━━━━━━┳━━━━━━━━━━━━━━━━━━━━━━━━━━━━┓\n",
       "┃\u001b[1m \u001b[0m\u001b[1mLayer (type)                 \u001b[0m\u001b[1m \u001b[0m┃\u001b[1m \u001b[0m\u001b[1mOutput Shape             \u001b[0m\u001b[1m \u001b[0m┃\u001b[1m \u001b[0m\u001b[1m        Param #\u001b[0m\u001b[1m \u001b[0m┃\u001b[1m \u001b[0m\u001b[1mConnected to              \u001b[0m\u001b[1m \u001b[0m┃\n",
       "┡━━━━━━━━━━━━━━━━━━━━━━━━━━━━━━━╇━━━━━━━━━━━━━━━━━━━━━━━━━━━╇━━━━━━━━━━━━━━━━━╇━━━━━━━━━━━━━━━━━━━━━━━━━━━━┩\n",
       "│ input_layer (\u001b[38;5;33mInputLayer\u001b[0m)      │ (\u001b[38;5;45mNone\u001b[0m, \u001b[38;5;34m10\u001b[0m, \u001b[38;5;34m25\u001b[0m)            │               \u001b[38;5;34m0\u001b[0m │ -                          │\n",
       "├───────────────────────────────┼───────────────────────────┼─────────────────┼────────────────────────────┤\n",
       "│ conv1d (\u001b[38;5;33mConv1D\u001b[0m)               │ (\u001b[38;5;45mNone\u001b[0m, \u001b[38;5;34m10\u001b[0m, \u001b[38;5;34m32\u001b[0m)            │           \u001b[38;5;34m2,432\u001b[0m │ input_layer[\u001b[38;5;34m0\u001b[0m][\u001b[38;5;34m0\u001b[0m]          │\n",
       "├───────────────────────────────┼───────────────────────────┼─────────────────┼────────────────────────────┤\n",
       "│ conv1d_1 (\u001b[38;5;33mConv1D\u001b[0m)             │ (\u001b[38;5;45mNone\u001b[0m, \u001b[38;5;34m10\u001b[0m, \u001b[38;5;34m64\u001b[0m)            │           \u001b[38;5;34m6,208\u001b[0m │ conv1d[\u001b[38;5;34m0\u001b[0m][\u001b[38;5;34m0\u001b[0m]               │\n",
       "├───────────────────────────────┼───────────────────────────┼─────────────────┼────────────────────────────┤\n",
       "│ max_pooling1d (\u001b[38;5;33mMaxPooling1D\u001b[0m)  │ (\u001b[38;5;45mNone\u001b[0m, \u001b[38;5;34m5\u001b[0m, \u001b[38;5;34m64\u001b[0m)             │               \u001b[38;5;34m0\u001b[0m │ conv1d_1[\u001b[38;5;34m0\u001b[0m][\u001b[38;5;34m0\u001b[0m]             │\n",
       "├───────────────────────────────┼───────────────────────────┼─────────────────┼────────────────────────────┤\n",
       "│ lstm (\u001b[38;5;33mLSTM\u001b[0m)                   │ (\u001b[38;5;45mNone\u001b[0m, \u001b[38;5;34m64\u001b[0m)                │          \u001b[38;5;34m33,024\u001b[0m │ max_pooling1d[\u001b[38;5;34m0\u001b[0m][\u001b[38;5;34m0\u001b[0m]        │\n",
       "├───────────────────────────────┼───────────────────────────┼─────────────────┼────────────────────────────┤\n",
       "│ raw (\u001b[38;5;33mDense\u001b[0m)                   │ (\u001b[38;5;45mNone\u001b[0m, \u001b[38;5;34m1\u001b[0m)                 │              \u001b[38;5;34m65\u001b[0m │ lstm[\u001b[38;5;34m0\u001b[0m][\u001b[38;5;34m0\u001b[0m]                 │\n",
       "├───────────────────────────────┼───────────────────────────┼─────────────────┼────────────────────────────┤\n",
       "│ smooth (\u001b[38;5;33mDense\u001b[0m)                │ (\u001b[38;5;45mNone\u001b[0m, \u001b[38;5;34m1\u001b[0m)                 │              \u001b[38;5;34m65\u001b[0m │ lstm[\u001b[38;5;34m0\u001b[0m][\u001b[38;5;34m0\u001b[0m]                 │\n",
       "└───────────────────────────────┴───────────────────────────┴─────────────────┴────────────────────────────┘\n"
      ]
     },
     "metadata": {},
     "output_type": "display_data"
    },
    {
     "data": {
      "text/html": [
       "<pre style=\"white-space:pre;overflow-x:auto;line-height:normal;font-family:Menlo,'DejaVu Sans Mono',consolas,'Courier New',monospace\"><span style=\"font-weight: bold\"> Total params: </span><span style=\"color: #00af00; text-decoration-color: #00af00\">41,794</span> (163.26 KB)\n",
       "</pre>\n"
      ],
      "text/plain": [
       "\u001b[1m Total params: \u001b[0m\u001b[38;5;34m41,794\u001b[0m (163.26 KB)\n"
      ]
     },
     "metadata": {},
     "output_type": "display_data"
    },
    {
     "data": {
      "text/html": [
       "<pre style=\"white-space:pre;overflow-x:auto;line-height:normal;font-family:Menlo,'DejaVu Sans Mono',consolas,'Courier New',monospace\"><span style=\"font-weight: bold\"> Trainable params: </span><span style=\"color: #00af00; text-decoration-color: #00af00\">41,794</span> (163.26 KB)\n",
       "</pre>\n"
      ],
      "text/plain": [
       "\u001b[1m Trainable params: \u001b[0m\u001b[38;5;34m41,794\u001b[0m (163.26 KB)\n"
      ]
     },
     "metadata": {},
     "output_type": "display_data"
    },
    {
     "data": {
      "text/html": [
       "<pre style=\"white-space:pre;overflow-x:auto;line-height:normal;font-family:Menlo,'DejaVu Sans Mono',consolas,'Courier New',monospace\"><span style=\"font-weight: bold\"> Non-trainable params: </span><span style=\"color: #00af00; text-decoration-color: #00af00\">0</span> (0.00 B)\n",
       "</pre>\n"
      ],
      "text/plain": [
       "\u001b[1m Non-trainable params: \u001b[0m\u001b[38;5;34m0\u001b[0m (0.00 B)\n"
      ]
     },
     "metadata": {},
     "output_type": "display_data"
    }
   ],
   "source": [
    "input_layer = layers.Input(shape=(SEQ_LEN, nf))\n",
    "x = layers.Conv1D(32, 3, padding='same', activation='relu')(input_layer)\n",
    "x = layers.Conv1D(64, 3, padding='same', activation='relu')(x)\n",
    "x = layers.MaxPooling1D(2)(x)\n",
    "x = layers.LSTM(64)(x)\n",
    "raw_output = layers.Dense(1, name='raw')(x)\n",
    "smooth_output = layers.Dense(1, name='smooth')(x)\n",
    "model = models.Model(inputs=input_layer, outputs=[raw_output, smooth_output])\n",
    "model.compile(optimizer='adam', loss='mse')\n",
    "\n",
    "model.summary()"
   ]
  },
  {
   "cell_type": "markdown",
   "id": "6493a318",
   "metadata": {},
   "source": [
    "## 4. Train with Early Stopping"
   ]
  },
  {
   "cell_type": "code",
   "execution_count": 8,
   "id": "aa10eefe",
   "metadata": {},
   "outputs": [
    {
     "name": "stdout",
     "output_type": "stream",
     "text": [
      "Epoch 1/100\n",
      "\u001b[1m1674/1674\u001b[0m \u001b[32m━━━━━━━━━━━━━━━━━━━━\u001b[0m\u001b[37m\u001b[0m \u001b[1m21s\u001b[0m 13ms/step - loss: 26304.7246 - raw_loss: 24573.9590 - smooth_loss: 1730.7628 - val_loss: 29938.9883 - val_raw_loss: 27620.8926 - val_smooth_loss: 2273.8770\n",
      "Epoch 2/100\n",
      "\u001b[1m1674/1674\u001b[0m \u001b[32m━━━━━━━━━━━━━━━━━━━━\u001b[0m\u001b[37m\u001b[0m \u001b[1m26s\u001b[0m 15ms/step - loss: 26511.8184 - raw_loss: 24758.7070 - smooth_loss: 1753.1241 - val_loss: 29568.3613 - val_raw_loss: 27362.7129 - val_smooth_loss: 2161.9229\n",
      "Epoch 3/100\n",
      "\u001b[1m1674/1674\u001b[0m \u001b[32m━━━━━━━━━━━━━━━━━━━━\u001b[0m\u001b[37m\u001b[0m \u001b[1m35s\u001b[0m 21ms/step - loss: 26203.1699 - raw_loss: 24462.9648 - smooth_loss: 1740.2155 - val_loss: 29476.0371 - val_raw_loss: 27346.0664 - val_smooth_loss: 2086.4622\n",
      "Epoch 4/100\n",
      "\u001b[1m1674/1674\u001b[0m \u001b[32m━━━━━━━━━━━━━━━━━━━━\u001b[0m\u001b[37m\u001b[0m \u001b[1m24s\u001b[0m 14ms/step - loss: 26106.8965 - raw_loss: 24382.0078 - smooth_loss: 1724.9115 - val_loss: 30376.7480 - val_raw_loss: 28023.9883 - val_smooth_loss: 2307.9968\n",
      "Epoch 5/100\n",
      "\u001b[1m1674/1674\u001b[0m \u001b[32m━━━━━━━━━━━━━━━━━━━━\u001b[0m\u001b[37m\u001b[0m \u001b[1m21s\u001b[0m 12ms/step - loss: 25685.1523 - raw_loss: 23956.0918 - smooth_loss: 1729.0410 - val_loss: 30437.6426 - val_raw_loss: 27621.4707 - val_smooth_loss: 2771.2515\n",
      "Epoch 6/100\n",
      "\u001b[1m1674/1674\u001b[0m \u001b[32m━━━━━━━━━━━━━━━━━━━━\u001b[0m\u001b[37m\u001b[0m \u001b[1m22s\u001b[0m 13ms/step - loss: 25758.9473 - raw_loss: 24025.8809 - smooth_loss: 1733.0619 - val_loss: 30107.6445 - val_raw_loss: 27848.3730 - val_smooth_loss: 2214.9131\n",
      "Epoch 7/100\n",
      "\u001b[1m1674/1674\u001b[0m \u001b[32m━━━━━━━━━━━━━━━━━━━━\u001b[0m\u001b[37m\u001b[0m \u001b[1m23s\u001b[0m 14ms/step - loss: 26220.9531 - raw_loss: 24489.3203 - smooth_loss: 1731.6195 - val_loss: 31195.3418 - val_raw_loss: 28357.9316 - val_smooth_loss: 2791.5535\n",
      "Epoch 8/100\n",
      "\u001b[1m1674/1674\u001b[0m \u001b[32m━━━━━━━━━━━━━━━━━━━━\u001b[0m\u001b[37m\u001b[0m \u001b[1m23s\u001b[0m 13ms/step - loss: 25729.7832 - raw_loss: 24034.7012 - smooth_loss: 1695.0884 - val_loss: 29987.1309 - val_raw_loss: 27676.2539 - val_smooth_loss: 2266.5608\n",
      "Epoch 9/100\n",
      "\u001b[1m1674/1674\u001b[0m \u001b[32m━━━━━━━━━━━━━━━━━━━━\u001b[0m\u001b[37m\u001b[0m \u001b[1m23s\u001b[0m 14ms/step - loss: 25823.0195 - raw_loss: 24080.0039 - smooth_loss: 1743.0176 - val_loss: 30532.9453 - val_raw_loss: 28039.8203 - val_smooth_loss: 2447.9136\n",
      "Epoch 10/100\n",
      "\u001b[1m1674/1674\u001b[0m \u001b[32m━━━━━━━━━━━━━━━━━━━━\u001b[0m\u001b[37m\u001b[0m \u001b[1m24s\u001b[0m 14ms/step - loss: 25405.9082 - raw_loss: 23696.6211 - smooth_loss: 1709.2871 - val_loss: 30301.5098 - val_raw_loss: 28000.7305 - val_smooth_loss: 2256.2019\n",
      "Epoch 11/100\n",
      "\u001b[1m1674/1674\u001b[0m \u001b[32m━━━━━━━━━━━━━━━━━━━━\u001b[0m\u001b[37m\u001b[0m \u001b[1m28s\u001b[0m 17ms/step - loss: 24998.7637 - raw_loss: 23337.8691 - smooth_loss: 1660.8998 - val_loss: 29961.2930 - val_raw_loss: 27636.7969 - val_smooth_loss: 2280.4832\n",
      "Epoch 12/100\n",
      "\u001b[1m1674/1674\u001b[0m \u001b[32m━━━━━━━━━━━━━━━━━━━━\u001b[0m\u001b[37m\u001b[0m \u001b[1m26s\u001b[0m 16ms/step - loss: 24936.5137 - raw_loss: 23264.3730 - smooth_loss: 1672.1481 - val_loss: 30470.5332 - val_raw_loss: 28027.9961 - val_smooth_loss: 2397.6091\n",
      "Epoch 13/100\n",
      "\u001b[1m1674/1674\u001b[0m \u001b[32m━━━━━━━━━━━━━━━━━━━━\u001b[0m\u001b[37m\u001b[0m \u001b[1m27s\u001b[0m 16ms/step - loss: 25697.3652 - raw_loss: 23969.1543 - smooth_loss: 1728.2230 - val_loss: 30549.5527 - val_raw_loss: 28099.2988 - val_smooth_loss: 2405.0198\n"
     ]
    }
   ],
   "source": [
    "es = callbacks.EarlyStopping(monitor='val_loss', patience=10, restore_best_weights=True)\n",
    "history = model.fit(\n",
    "    X_train, [y_raw_train, y_smooth_train],\n",
    "    validation_data=(X_val, [y_raw_val, y_smooth_val]),\n",
    "    epochs=100, batch_size=32, callbacks=[es]\n",
    ")\n",
    "\n",
    "# Save model\n",
    "model.save('models/throughput_model.keras')"
   ]
  },
  {
   "cell_type": "markdown",
   "id": "40e8fe22",
   "metadata": {},
   "source": [
    "## 5. Loss Curves Visualization"
   ]
  },
  {
   "cell_type": "code",
   "execution_count": 9,
   "id": "dd0e1b12",
   "metadata": {},
   "outputs": [
    {
     "data": {
      "image/png": "[encoded data removed]",
      "text/plain": [
       "<Figure size 800x400 with 1 Axes>"
      ]
     },
     "metadata": {},
     "output_type": "display_data"
    }
   ],
   "source": [
    "# Plot training and validation loss\n",
    "plt.figure(figsize=(8, 4))\n",
    "plt.plot(history.history['loss'], label='Train Loss')\n",
    "plt.plot(history.history['val_loss'], label='Val Loss')\n",
    "plt.title('Training vs. Validation Loss')\n",
    "plt.xlabel('Epoch')\n",
    "plt.ylabel('Loss')\n",
    "plt.legend()\n",
    "plt.show()"
   ]
  },
  {
   "cell_type": "markdown",
   "id": "1094f743",
   "metadata": {},
   "source": [
    "## 6. Evaluation Metrics"
   ]
  },
  {
   "cell_type": "code",
   "execution_count": 10,
   "id": "873060eb",
   "metadata": {},
   "outputs": [
    {
     "name": "stdout",
     "output_type": "stream",
     "text": [
      "\u001b[1m419/419\u001b[0m \u001b[32m━━━━━━━━━━━━━━━━━━━━\u001b[0m\u001b[37m\u001b[0m \u001b[1m2s\u001b[0m 3ms/step\n"
     ]
    },
    {
     "data": {
      "text/html": [
       "<div>\n",
       "<style scoped>\n",
       "    .dataframe tbody tr th:only-of-type {\n",
       "        vertical-align: middle;\n",
       "    }\n",
       "\n",
       "    .dataframe tbody tr th {\n",
       "        vertical-align: top;\n",
       "    }\n",
       "\n",
       "    .dataframe thead th {\n",
       "        text-align: right;\n",
       "    }\n",
       "</style>\n",
       "<table border=\"1\" class=\"dataframe\">\n",
       "  <thead>\n",
       "    <tr style=\"text-align: right;\">\n",
       "      <th></th>\n",
       "      <th>Metric</th>\n",
       "      <th>Value</th>\n",
       "    </tr>\n",
       "  </thead>\n",
       "  <tbody>\n",
       "    <tr>\n",
       "      <th>0</th>\n",
       "      <td>RMSE Raw</td>\n",
       "      <td>165.488836</td>\n",
       "    </tr>\n",
       "    <tr>\n",
       "      <th>1</th>\n",
       "      <td>RMSE Smooth</td>\n",
       "      <td>45.710966</td>\n",
       "    </tr>\n",
       "    <tr>\n",
       "      <th>2</th>\n",
       "      <td>RMSE Final</td>\n",
       "      <td>143.637136</td>\n",
       "    </tr>\n",
       "    <tr>\n",
       "      <th>3</th>\n",
       "      <td>MAE Final</td>\n",
       "      <td>79.999825</td>\n",
       "    </tr>\n",
       "    <tr>\n",
       "      <th>4</th>\n",
       "      <td>R2 Final</td>\n",
       "      <td>0.900409</td>\n",
       "    </tr>\n",
       "  </tbody>\n",
       "</table>\n",
       "</div>"
      ],
      "text/plain": [
       "        Metric       Value\n",
       "0     RMSE Raw  165.488836\n",
       "1  RMSE Smooth   45.710966\n",
       "2   RMSE Final  143.637136\n",
       "3    MAE Final   79.999825\n",
       "4     R2 Final    0.900409"
      ]
     },
     "execution_count": 10,
     "metadata": {},
     "output_type": "execute_result"
    }
   ],
   "source": [
    "# Predictions on validation\n",
    "pred_raw, pred_smooth = model.predict(X_val)\n",
    "pred_raw = pred_raw.squeeze()\n",
    "pred_smooth = pred_smooth.squeeze()\n",
    "\n",
    "# Switch: choose prediction closest to true raw\n",
    "pred_final = np.where(\n",
    "    np.abs(pred_raw - y_raw_val) < np.abs(pred_smooth - y_raw_val),\n",
    "    pred_raw, pred_smooth\n",
    ")\n",
    "\n",
    "# Compute metrics\n",
    "rmse_raw = np.sqrt(mean_squared_error(y_raw_val, pred_raw))\n",
    "rmse_smooth = np.sqrt(mean_squared_error(y_smooth_val, pred_smooth))\n",
    "rmse_final = np.sqrt(mean_squared_error(y_raw_val, pred_final))\n",
    "mae_final = mean_absolute_error(y_raw_val, pred_final)\n",
    "r2_final = r2_score(y_raw_val, pred_final)\n",
    "\n",
    "# Display metrics\n",
    "metrics = pd.DataFrame({\n",
    "    'Metric': ['RMSE Raw', 'RMSE Smooth', 'RMSE Final', 'MAE Final', 'R2 Final'],\n",
    "    'Value': [rmse_raw, rmse_smooth, rmse_final, mae_final, r2_final]\n",
    "})\n",
    "metrics"
   ]
  },
  {
   "cell_type": "markdown",
   "id": "2ffd3bab",
   "metadata": {},
   "source": [
    "## 7. Run 14 Heatmap via Folium"
   ]
  },
  {
   "cell_type": "code",
   "execution_count": 15,
   "id": "be90914d",
   "metadata": {},
   "outputs": [
    {
     "name": "stdout",
     "output_type": "stream",
     "text": [
      "Improved heatmap saved to outputs/run_heatmap_improved.html\n"
     ]
    },
    {
     "data": {
      "text/html": [
       "\n",
       "        <iframe\n",
       "            width=\"800\"\n",
       "            height=\"600\"\n",
       "            src=\"outputs/run_heatmap_improved.html\"\n",
       "            frameborder=\"0\"\n",
       "            allowfullscreen\n",
       "            \n",
       "        ></iframe>\n",
       "        "
      ],
      "text/plain": [
       "<IPython.lib.display.IFrame at 0x27dc7bbdc70>"
      ]
     },
     "execution_count": 15,
     "metadata": {},
     "output_type": "execute_result"
    }
   ],
   "source": [
    "# Improved Run Heatmap with Colormap and Circle Markers\n",
    "\n",
    "import folium\n",
    "import branca.colormap as cm\n",
    "from IPython.display import IFrame\n",
    "\n",
    "# Select a valid run (same logic as before)\n",
    "valid_runs = np.unique(runs_val)\n",
    "run_to_plot = 14 if 14 in valid_runs else valid_runs[0]\n",
    "run_idx = np.where(runs_val == run_to_plot)[0][:20]\n",
    "coords_df = df[df.run_num == run_to_plot].reset_index(drop=True)\n",
    "coords = coords_df.loc[run_idx + SEQ_LEN, ['latitude','longitude']].values.tolist()\n",
    "preds = pred_final[run_idx].tolist()\n",
    "\n",
    "# Determine map center and bounds\n",
    "lats, lons = zip(*coords)\n",
    "center = [np.mean(lats), np.mean(lons)]\n",
    "\n",
    "# Create map with a nicer tile\n",
    "m = folium.Map(location=center, zoom_start=14, tiles='CartoDB positron')\n",
    "\n",
    "# Create and add a linear colormap\n",
    "vmin, vmax = min(preds), max(preds)\n",
    "colormap = cm.LinearColormap(\n",
    "    ['blue','green','yellow','red'],\n",
    "    vmin=vmin, vmax=vmax,\n",
    "    caption='Predicted Throughput (Mbps)'\n",
    ")\n",
    "colormap.add_to(m)\n",
    "\n",
    "# Add circle markers sized and colored by throughput\n",
    "for (lat, lon), val in zip(coords, preds):\n",
    "    color = colormap(val)\n",
    "    folium.CircleMarker(\n",
    "        location=[lat, lon],\n",
    "        radius=8,\n",
    "        color=color,\n",
    "        fill=True,\n",
    "        fill_color=color,\n",
    "        fill_opacity=0.8,\n",
    "        popup=folium.Popup(f'<b>{val:.2f} Mbps</b>', parse_html=True)\n",
    "    ).add_to(m)\n",
    "\n",
    "# Fit map to all points\n",
    "m.fit_bounds([[min(lats), min(lons)], [max(lats), max(lons)]])\n",
    "\n",
    "# Save and display\n",
    "html_path = 'outputs/run_heatmap_improved.html'\n",
    "m.save(html_path)\n",
    "print(f\"Improved heatmap saved to {html_path}\")\n",
    "\n",
    "IFrame(html_path, width=800, height=600)\n"
   ]
  },
  {
   "cell_type": "code",
   "execution_count": null,
   "id": "8fe0dff6-f252-4279-af35-ccb45803b8ac",
   "metadata": {},
   "outputs": [],
   "source": []
  },
  {
   "cell_type": "code",
   "execution_count": null,
   "id": "929e3d13-eb7b-4398-aaa1-51393630b6f7",
   "metadata": {},
   "outputs": [],
   "source": []
  }
 ],
 "metadata": {
  "kernelspec": {
   "display_name": "Python 3 (ipykernel)",
   "language": "python",
   "name": "python3"
  },
  "language_info": {
   "codemirror_mode": {
    "name": "ipython",
    "version": 3
   },
   "file_extension": ".py",
   "mimetype": "text/x-python",
   "name": "python",
   "nbconvert_exporter": "python",
   "pygments_lexer": "ipython3",
   "version": "3.12.6"
  }
 },
 "nbformat": 4,
 "nbformat_minor": 5
}
