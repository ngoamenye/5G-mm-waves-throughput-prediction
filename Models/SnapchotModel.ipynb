{
 "cells": [
  {
   "cell_type": "code",
   "execution_count": 1,
   "metadata": {},
   "outputs": [],
   "source": [
    "import pandas as pd\n",
    "import numpy as np\n",
    "import tensorflow as tf\n",
    "from tensorflow.keras.models import Sequential\n",
    "from tensorflow.keras.layers import Dense, Dropout, Conv1D, MaxPooling1D, LSTM, Reshape\n",
    "from sklearn.model_selection import train_test_split\n",
    "from sklearn.metrics import mean_squared_error, mean_absolute_error\n",
    "import matplotlib\n",
    "matplotlib.use('TkAgg')  # Pour afficher dans la cellule VS Code ou Notebook\n",
    "import matplotlib.pyplot as plt"
   ]
  },
  {
   "cell_type": "code",
   "execution_count": 2,
   "metadata": {},
   "outputs": [],
   "source": [
    "# 🔹 1. Import dataset and create smoothed throughput using EMA (Exponential Moving Average)\n",
    "file_path = 'prepared_5G_data.csv'\n",
    "df = pd.read_csv(file_path)\n",
    "df['Smooth_Throughput'] = df['Throughput'].ewm(span=5, adjust=False).mean()"
   ]
  },
  {
   "cell_type": "code",
   "execution_count": 3,
   "metadata": {},
   "outputs": [],
   "source": [
    "# 🔹 2. Préparation des features (X) et target (y)\n",
    "features = df.drop(columns=['Throughput', 'Smooth_Throughput'])\n",
    "target = df['Smooth_Throughput']"
   ]
  },
  {
   "cell_type": "code",
   "execution_count": 4,
   "metadata": {},
   "outputs": [],
   "source": [
    "# Split des données\n",
    "X_train, X_test, y_train, y_test = train_test_split(features, target, test_size=0.2, random_state=42)"
   ]
  },
  {
   "cell_type": "code",
   "execution_count": 5,
   "metadata": {},
   "outputs": [
    {
     "name": "stderr",
     "output_type": "stream",
     "text": [
      "C:\\Users\\axxiv\\AppData\\Roaming\\Python\\Python312\\site-packages\\keras\\src\\layers\\reshaping\\reshape.py:39: UserWarning: Do not pass an `input_shape`/`input_dim` argument to a layer. When using Sequential models, prefer using an `Input(shape)` object as the first layer in the model instead.\n",
      "  super().__init__(**kwargs)\n"
     ]
    }
   ],
   "source": [
    "# 🔹 3. Modèle CNN + LSTM (1D expansion)\n",
    "model = Sequential([\n",
    "    Reshape((features.shape[1], 1), input_shape=(features.shape[1],)),\n",
    "    Conv1D(filters=64, kernel_size=3, activation='relu', padding='same'),\n",
    "    MaxPooling1D(pool_size=2),\n",
    "    LSTM(64, activation='tanh'),\n",
    "    Dropout(0.3),\n",
    "    Dense(64, activation='relu'),\n",
    "    Dense(1)\n",
    "])\n",
    "\n",
    "model.compile(optimizer='adam',\n",
    "              loss='mse',\n",
    "              metrics=[tf.keras.metrics.RootMeanSquaredError(), tf.keras.metrics.MeanAbsoluteError()])"
   ]
  },
  {
   "cell_type": "code",
   "execution_count": 6,
   "metadata": {},
   "outputs": [
    {
     "name": "stdout",
     "output_type": "stream",
     "text": [
      "Epoch 1/50\n",
      "\u001b[1m682/682\u001b[0m \u001b[32m━━━━━━━━━━━━━━━━━━━━\u001b[0m\u001b[37m\u001b[0m \u001b[1m27s\u001b[0m 29ms/step - loss: 332102.2812 - mean_absolute_error: 427.4677 - root_mean_squared_error: 573.0073 - val_loss: 136831.5938 - val_mean_absolute_error: 281.8919 - val_root_mean_squared_error: 369.9076\n",
      "Epoch 2/50\n",
      "\u001b[1m682/682\u001b[0m \u001b[32m━━━━━━━━━━━━━━━━━━━━\u001b[0m\u001b[37m\u001b[0m \u001b[1m16s\u001b[0m 24ms/step - loss: 134988.6406 - mean_absolute_error: 281.9771 - root_mean_squared_error: 367.3699 - val_loss: 106190.5078 - val_mean_absolute_error: 239.8963 - val_root_mean_squared_error: 325.8688\n",
      "Epoch 3/50\n",
      "\u001b[1m682/682\u001b[0m \u001b[32m━━━━━━━━━━━━━━━━━━━━\u001b[0m\u001b[37m\u001b[0m \u001b[1m20s\u001b[0m 29ms/step - loss: 103937.2188 - mean_absolute_error: 243.1910 - root_mean_squared_error: 322.3487 - val_loss: 80360.9609 - val_mean_absolute_error: 210.5976 - val_root_mean_squared_error: 283.4801\n",
      "Epoch 4/50\n",
      "\u001b[1m682/682\u001b[0m \u001b[32m━━━━━━━━━━━━━━━━━━━━\u001b[0m\u001b[37m\u001b[0m \u001b[1m25s\u001b[0m 37ms/step - loss: 78250.8594 - mean_absolute_error: 206.6665 - root_mean_squared_error: 279.6599 - val_loss: 66555.8359 - val_mean_absolute_error: 184.8138 - val_root_mean_squared_error: 257.9842\n",
      "Epoch 5/50\n",
      "\u001b[1m682/682\u001b[0m \u001b[32m━━━━━━━━━━━━━━━━━━━━\u001b[0m\u001b[37m\u001b[0m \u001b[1m33s\u001b[0m 25ms/step - loss: 67779.9688 - mean_absolute_error: 189.4545 - root_mean_squared_error: 260.3334 - val_loss: 64587.1055 - val_mean_absolute_error: 181.2746 - val_root_mean_squared_error: 254.1399\n",
      "Epoch 6/50\n",
      "\u001b[1m682/682\u001b[0m \u001b[32m━━━━━━━━━━━━━━━━━━━━\u001b[0m\u001b[37m\u001b[0m \u001b[1m15s\u001b[0m 22ms/step - loss: 67665.2344 - mean_absolute_error: 188.0345 - root_mean_squared_error: 260.1123 - val_loss: 63945.3594 - val_mean_absolute_error: 182.6757 - val_root_mean_squared_error: 252.8742\n",
      "Epoch 7/50\n",
      "\u001b[1m682/682\u001b[0m \u001b[32m━━━━━━━━━━━━━━━━━━━━\u001b[0m\u001b[37m\u001b[0m \u001b[1m18s\u001b[0m 26ms/step - loss: 66822.6484 - mean_absolute_error: 185.1850 - root_mean_squared_error: 258.4936 - val_loss: 65305.6133 - val_mean_absolute_error: 186.2041 - val_root_mean_squared_error: 255.5496\n",
      "Epoch 8/50\n",
      "\u001b[1m682/682\u001b[0m \u001b[32m━━━━━━━━━━━━━━━━━━━━\u001b[0m\u001b[37m\u001b[0m \u001b[1m21s\u001b[0m 30ms/step - loss: 66243.0234 - mean_absolute_error: 185.0934 - root_mean_squared_error: 257.3573 - val_loss: 62343.7461 - val_mean_absolute_error: 178.8790 - val_root_mean_squared_error: 249.6873\n",
      "Epoch 9/50\n",
      "\u001b[1m682/682\u001b[0m \u001b[32m━━━━━━━━━━━━━━━━━━━━\u001b[0m\u001b[37m\u001b[0m \u001b[1m23s\u001b[0m 34ms/step - loss: 65043.6484 - mean_absolute_error: 183.4143 - root_mean_squared_error: 255.0292 - val_loss: 61560.8242 - val_mean_absolute_error: 179.2171 - val_root_mean_squared_error: 248.1145\n",
      "Epoch 10/50\n",
      "\u001b[1m682/682\u001b[0m \u001b[32m━━━━━━━━━━━━━━━━━━━━\u001b[0m\u001b[37m\u001b[0m \u001b[1m25s\u001b[0m 37ms/step - loss: 64590.4961 - mean_absolute_error: 181.7299 - root_mean_squared_error: 254.1263 - val_loss: 61113.3828 - val_mean_absolute_error: 173.2042 - val_root_mean_squared_error: 247.2112\n",
      "Epoch 11/50\n",
      "\u001b[1m682/682\u001b[0m \u001b[32m━━━━━━━━━━━━━━━━━━━━\u001b[0m\u001b[37m\u001b[0m \u001b[1m24s\u001b[0m 35ms/step - loss: 63676.7070 - mean_absolute_error: 179.8228 - root_mean_squared_error: 252.3378 - val_loss: 60028.6133 - val_mean_absolute_error: 173.5888 - val_root_mean_squared_error: 245.0074\n",
      "Epoch 12/50\n",
      "\u001b[1m682/682\u001b[0m \u001b[32m━━━━━━━━━━━━━━━━━━━━\u001b[0m\u001b[37m\u001b[0m \u001b[1m18s\u001b[0m 26ms/step - loss: 62219.4297 - mean_absolute_error: 177.0043 - root_mean_squared_error: 249.4265 - val_loss: 59146.5742 - val_mean_absolute_error: 171.3627 - val_root_mean_squared_error: 243.2007\n",
      "Epoch 13/50\n",
      "\u001b[1m682/682\u001b[0m \u001b[32m━━━━━━━━━━━━━━━━━━━━\u001b[0m\u001b[37m\u001b[0m \u001b[1m20s\u001b[0m 29ms/step - loss: 62297.7500 - mean_absolute_error: 177.3292 - root_mean_squared_error: 249.5904 - val_loss: 59347.2148 - val_mean_absolute_error: 173.4561 - val_root_mean_squared_error: 243.6128\n",
      "Epoch 14/50\n",
      "\u001b[1m682/682\u001b[0m \u001b[32m━━━━━━━━━━━━━━━━━━━━\u001b[0m\u001b[37m\u001b[0m \u001b[1m19s\u001b[0m 28ms/step - loss: 60674.3398 - mean_absolute_error: 175.2380 - root_mean_squared_error: 246.3124 - val_loss: 59758.6602 - val_mean_absolute_error: 173.3023 - val_root_mean_squared_error: 244.4558\n",
      "Epoch 15/50\n",
      "\u001b[1m682/682\u001b[0m \u001b[32m━━━━━━━━━━━━━━━━━━━━\u001b[0m\u001b[37m\u001b[0m \u001b[1m17s\u001b[0m 24ms/step - loss: 62154.7695 - mean_absolute_error: 176.9596 - root_mean_squared_error: 249.3037 - val_loss: 57860.0703 - val_mean_absolute_error: 169.7042 - val_root_mean_squared_error: 240.5412\n",
      "Epoch 16/50\n",
      "\u001b[1m682/682\u001b[0m \u001b[32m━━━━━━━━━━━━━━━━━━━━\u001b[0m\u001b[37m\u001b[0m \u001b[1m18s\u001b[0m 27ms/step - loss: 60645.1836 - mean_absolute_error: 174.5606 - root_mean_squared_error: 246.2556 - val_loss: 57810.9922 - val_mean_absolute_error: 168.4212 - val_root_mean_squared_error: 240.4392\n",
      "Epoch 17/50\n",
      "\u001b[1m682/682\u001b[0m \u001b[32m━━━━━━━━━━━━━━━━━━━━\u001b[0m\u001b[37m\u001b[0m \u001b[1m17s\u001b[0m 25ms/step - loss: 59882.9102 - mean_absolute_error: 173.1533 - root_mean_squared_error: 244.6992 - val_loss: 56641.9609 - val_mean_absolute_error: 170.9630 - val_root_mean_squared_error: 237.9957\n",
      "Epoch 18/50\n",
      "\u001b[1m682/682\u001b[0m \u001b[32m━━━━━━━━━━━━━━━━━━━━\u001b[0m\u001b[37m\u001b[0m \u001b[1m17s\u001b[0m 24ms/step - loss: 59121.0078 - mean_absolute_error: 172.2806 - root_mean_squared_error: 243.1436 - val_loss: 58408.1641 - val_mean_absolute_error: 169.0326 - val_root_mean_squared_error: 241.6778\n",
      "Epoch 19/50\n",
      "\u001b[1m682/682\u001b[0m \u001b[32m━━━━━━━━━━━━━━━━━━━━\u001b[0m\u001b[37m\u001b[0m \u001b[1m18s\u001b[0m 27ms/step - loss: 58496.2773 - mean_absolute_error: 170.9902 - root_mean_squared_error: 241.8439 - val_loss: 56389.9961 - val_mean_absolute_error: 167.3477 - val_root_mean_squared_error: 237.4658\n",
      "Epoch 20/50\n",
      "\u001b[1m682/682\u001b[0m \u001b[32m━━━━━━━━━━━━━━━━━━━━\u001b[0m\u001b[37m\u001b[0m \u001b[1m15s\u001b[0m 22ms/step - loss: 58848.1562 - mean_absolute_error: 172.0374 - root_mean_squared_error: 242.5830 - val_loss: 57041.4102 - val_mean_absolute_error: 170.0671 - val_root_mean_squared_error: 238.8334\n",
      "Epoch 21/50\n",
      "\u001b[1m682/682\u001b[0m \u001b[32m━━━━━━━━━━━━━━━━━━━━\u001b[0m\u001b[37m\u001b[0m \u001b[1m17s\u001b[0m 24ms/step - loss: 58320.4102 - mean_absolute_error: 171.5217 - root_mean_squared_error: 241.4924 - val_loss: 55245.1406 - val_mean_absolute_error: 167.2038 - val_root_mean_squared_error: 235.0428\n",
      "Epoch 22/50\n",
      "\u001b[1m682/682\u001b[0m \u001b[32m━━━━━━━━━━━━━━━━━━━━\u001b[0m\u001b[37m\u001b[0m \u001b[1m16s\u001b[0m 23ms/step - loss: 56787.1875 - mean_absolute_error: 168.5820 - root_mean_squared_error: 238.2973 - val_loss: 55788.3008 - val_mean_absolute_error: 165.6156 - val_root_mean_squared_error: 236.1955\n",
      "Epoch 23/50\n",
      "\u001b[1m682/682\u001b[0m \u001b[32m━━━━━━━━━━━━━━━━━━━━\u001b[0m\u001b[37m\u001b[0m \u001b[1m16s\u001b[0m 24ms/step - loss: 56575.1875 - mean_absolute_error: 168.2775 - root_mean_squared_error: 237.8373 - val_loss: 57693.5234 - val_mean_absolute_error: 168.9643 - val_root_mean_squared_error: 240.1948\n",
      "Epoch 24/50\n",
      "\u001b[1m682/682\u001b[0m \u001b[32m━━━━━━━━━━━━━━━━━━━━\u001b[0m\u001b[37m\u001b[0m \u001b[1m15s\u001b[0m 22ms/step - loss: 57930.0469 - mean_absolute_error: 170.9048 - root_mean_squared_error: 240.6613 - val_loss: 53973.0117 - val_mean_absolute_error: 164.2436 - val_root_mean_squared_error: 232.3209\n",
      "Epoch 25/50\n",
      "\u001b[1m682/682\u001b[0m \u001b[32m━━━━━━━━━━━━━━━━━━━━\u001b[0m\u001b[37m\u001b[0m \u001b[1m17s\u001b[0m 25ms/step - loss: 57334.7852 - mean_absolute_error: 169.4574 - root_mean_squared_error: 239.4316 - val_loss: 53999.3359 - val_mean_absolute_error: 163.8454 - val_root_mean_squared_error: 232.3776\n",
      "Epoch 26/50\n",
      "\u001b[1m682/682\u001b[0m \u001b[32m━━━━━━━━━━━━━━━━━━━━\u001b[0m\u001b[37m\u001b[0m \u001b[1m15s\u001b[0m 22ms/step - loss: 55337.3281 - mean_absolute_error: 166.1527 - root_mean_squared_error: 235.2203 - val_loss: 54739.1719 - val_mean_absolute_error: 163.8314 - val_root_mean_squared_error: 233.9640\n",
      "Epoch 27/50\n",
      "\u001b[1m682/682\u001b[0m \u001b[32m━━━━━━━━━━━━━━━━━━━━\u001b[0m\u001b[37m\u001b[0m \u001b[1m19s\u001b[0m 28ms/step - loss: 55975.2773 - mean_absolute_error: 167.6579 - root_mean_squared_error: 236.5854 - val_loss: 54111.0742 - val_mean_absolute_error: 163.1638 - val_root_mean_squared_error: 232.6179\n",
      "Epoch 28/50\n",
      "\u001b[1m682/682\u001b[0m \u001b[32m━━━━━━━━━━━━━━━━━━━━\u001b[0m\u001b[37m\u001b[0m \u001b[1m22s\u001b[0m 32ms/step - loss: 55411.2969 - mean_absolute_error: 166.5121 - root_mean_squared_error: 235.3902 - val_loss: 52943.6953 - val_mean_absolute_error: 161.5617 - val_root_mean_squared_error: 230.0950\n",
      "Epoch 29/50\n",
      "\u001b[1m682/682\u001b[0m \u001b[32m━━━━━━━━━━━━━━━━━━━━\u001b[0m\u001b[37m\u001b[0m \u001b[1m20s\u001b[0m 30ms/step - loss: 55402.3320 - mean_absolute_error: 166.9998 - root_mean_squared_error: 235.3710 - val_loss: 53076.8750 - val_mean_absolute_error: 161.7765 - val_root_mean_squared_error: 230.3842\n",
      "Epoch 30/50\n",
      "\u001b[1m682/682\u001b[0m \u001b[32m━━━━━━━━━━━━━━━━━━━━\u001b[0m\u001b[37m\u001b[0m \u001b[1m17s\u001b[0m 25ms/step - loss: 53924.6758 - mean_absolute_error: 164.0245 - root_mean_squared_error: 232.2020 - val_loss: 52333.7734 - val_mean_absolute_error: 161.0569 - val_root_mean_squared_error: 228.7658\n",
      "Epoch 31/50\n",
      "\u001b[1m682/682\u001b[0m \u001b[32m━━━━━━━━━━━━━━━━━━━━\u001b[0m\u001b[37m\u001b[0m \u001b[1m15s\u001b[0m 22ms/step - loss: 54042.2617 - mean_absolute_error: 164.2369 - root_mean_squared_error: 232.4680 - val_loss: 52468.6016 - val_mean_absolute_error: 160.6967 - val_root_mean_squared_error: 229.0603\n",
      "Epoch 32/50\n",
      "\u001b[1m682/682\u001b[0m \u001b[32m━━━━━━━━━━━━━━━━━━━━\u001b[0m\u001b[37m\u001b[0m \u001b[1m17s\u001b[0m 25ms/step - loss: 53705.5391 - mean_absolute_error: 163.9225 - root_mean_squared_error: 231.7368 - val_loss: 51770.6094 - val_mean_absolute_error: 161.4005 - val_root_mean_squared_error: 227.5316\n",
      "Epoch 33/50\n",
      "\u001b[1m682/682\u001b[0m \u001b[32m━━━━━━━━━━━━━━━━━━━━\u001b[0m\u001b[37m\u001b[0m \u001b[1m17s\u001b[0m 24ms/step - loss: 52567.5820 - mean_absolute_error: 162.7920 - root_mean_squared_error: 229.2693 - val_loss: 50681.5156 - val_mean_absolute_error: 158.5572 - val_root_mean_squared_error: 225.1255\n",
      "Epoch 34/50\n",
      "\u001b[1m682/682\u001b[0m \u001b[32m━━━━━━━━━━━━━━━━━━━━\u001b[0m\u001b[37m\u001b[0m \u001b[1m15s\u001b[0m 23ms/step - loss: 53093.1289 - mean_absolute_error: 163.3965 - root_mean_squared_error: 230.4118 - val_loss: 50401.6289 - val_mean_absolute_error: 157.6359 - val_root_mean_squared_error: 224.5031\n",
      "Epoch 35/50\n",
      "\u001b[1m682/682\u001b[0m \u001b[32m━━━━━━━━━━━━━━━━━━━━\u001b[0m\u001b[37m\u001b[0m \u001b[1m17s\u001b[0m 24ms/step - loss: 52154.0781 - mean_absolute_error: 161.2406 - root_mean_squared_error: 228.3669 - val_loss: 50471.0625 - val_mean_absolute_error: 158.9433 - val_root_mean_squared_error: 224.6577\n",
      "Epoch 36/50\n",
      "\u001b[1m682/682\u001b[0m \u001b[32m━━━━━━━━━━━━━━━━━━━━\u001b[0m\u001b[37m\u001b[0m \u001b[1m16s\u001b[0m 24ms/step - loss: 51718.6406 - mean_absolute_error: 160.8788 - root_mean_squared_error: 227.3985 - val_loss: 49725.8633 - val_mean_absolute_error: 157.0766 - val_root_mean_squared_error: 222.9930\n",
      "Epoch 37/50\n",
      "\u001b[1m682/682\u001b[0m \u001b[32m━━━━━━━━━━━━━━━━━━━━\u001b[0m\u001b[37m\u001b[0m \u001b[1m17s\u001b[0m 25ms/step - loss: 50204.6562 - mean_absolute_error: 158.7192 - root_mean_squared_error: 224.0368 - val_loss: 49882.6250 - val_mean_absolute_error: 156.6406 - val_root_mean_squared_error: 223.3442\n",
      "Epoch 38/50\n",
      "\u001b[1m682/682\u001b[0m \u001b[32m━━━━━━━━━━━━━━━━━━━━\u001b[0m\u001b[37m\u001b[0m \u001b[1m16s\u001b[0m 24ms/step - loss: 50668.9727 - mean_absolute_error: 158.9234 - root_mean_squared_error: 225.0845 - val_loss: 49451.7188 - val_mean_absolute_error: 158.4423 - val_root_mean_squared_error: 222.3774\n",
      "Epoch 39/50\n",
      "\u001b[1m682/682\u001b[0m \u001b[32m━━━━━━━━━━━━━━━━━━━━\u001b[0m\u001b[37m\u001b[0m \u001b[1m17s\u001b[0m 25ms/step - loss: 51268.7891 - mean_absolute_error: 160.0664 - root_mean_squared_error: 226.4170 - val_loss: 49039.0195 - val_mean_absolute_error: 155.8172 - val_root_mean_squared_error: 221.4476\n",
      "Epoch 40/50\n",
      "\u001b[1m682/682\u001b[0m \u001b[32m━━━━━━━━━━━━━━━━━━━━\u001b[0m\u001b[37m\u001b[0m \u001b[1m16s\u001b[0m 23ms/step - loss: 50805.2500 - mean_absolute_error: 159.4647 - root_mean_squared_error: 225.3765 - val_loss: 48852.2422 - val_mean_absolute_error: 155.0197 - val_root_mean_squared_error: 221.0254\n",
      "Epoch 41/50\n",
      "\u001b[1m682/682\u001b[0m \u001b[32m━━━━━━━━━━━━━━━━━━━━\u001b[0m\u001b[37m\u001b[0m \u001b[1m18s\u001b[0m 26ms/step - loss: 50934.8125 - mean_absolute_error: 159.1001 - root_mean_squared_error: 225.6730 - val_loss: 48504.6484 - val_mean_absolute_error: 156.8083 - val_root_mean_squared_error: 220.2377\n",
      "Epoch 42/50\n",
      "\u001b[1m682/682\u001b[0m \u001b[32m━━━━━━━━━━━━━━━━━━━━\u001b[0m\u001b[37m\u001b[0m \u001b[1m20s\u001b[0m 29ms/step - loss: 51145.8711 - mean_absolute_error: 159.5520 - root_mean_squared_error: 226.1488 - val_loss: 49476.5352 - val_mean_absolute_error: 155.6016 - val_root_mean_squared_error: 222.4332\n",
      "Epoch 43/50\n",
      "\u001b[1m682/682\u001b[0m \u001b[32m━━━━━━━━━━━━━━━━━━━━\u001b[0m\u001b[37m\u001b[0m \u001b[1m18s\u001b[0m 27ms/step - loss: 49936.8555 - mean_absolute_error: 157.6673 - root_mean_squared_error: 223.4600 - val_loss: 47783.2266 - val_mean_absolute_error: 152.9679 - val_root_mean_squared_error: 218.5938\n",
      "Epoch 44/50\n",
      "\u001b[1m682/682\u001b[0m \u001b[32m━━━━━━━━━━━━━━━━━━━━\u001b[0m\u001b[37m\u001b[0m \u001b[1m16s\u001b[0m 24ms/step - loss: 48722.7461 - mean_absolute_error: 155.7747 - root_mean_squared_error: 220.7092 - val_loss: 48266.0312 - val_mean_absolute_error: 155.2981 - val_root_mean_squared_error: 219.6953\n",
      "Epoch 45/50\n",
      "\u001b[1m682/682\u001b[0m \u001b[32m━━━━━━━━━━━━━━━━━━━━\u001b[0m\u001b[37m\u001b[0m \u001b[1m17s\u001b[0m 24ms/step - loss: 48570.6250 - mean_absolute_error: 155.9045 - root_mean_squared_error: 220.3513 - val_loss: 47565.4062 - val_mean_absolute_error: 152.6455 - val_root_mean_squared_error: 218.0949\n",
      "Epoch 46/50\n",
      "\u001b[1m682/682\u001b[0m \u001b[32m━━━━━━━━━━━━━━━━━━━━\u001b[0m\u001b[37m\u001b[0m \u001b[1m24s\u001b[0m 36ms/step - loss: 48198.5938 - mean_absolute_error: 155.1057 - root_mean_squared_error: 219.5100 - val_loss: 48378.5117 - val_mean_absolute_error: 156.5690 - val_root_mean_squared_error: 219.9512\n",
      "Epoch 47/50\n",
      "\u001b[1m682/682\u001b[0m \u001b[32m━━━━━━━━━━━━━━━━━━━━\u001b[0m\u001b[37m\u001b[0m \u001b[1m23s\u001b[0m 34ms/step - loss: 48219.2031 - mean_absolute_error: 154.8553 - root_mean_squared_error: 219.5787 - val_loss: 47657.2852 - val_mean_absolute_error: 152.7636 - val_root_mean_squared_error: 218.3055\n",
      "Epoch 48/50\n",
      "\u001b[1m682/682\u001b[0m \u001b[32m━━━━━━━━━━━━━━━━━━━━\u001b[0m\u001b[37m\u001b[0m \u001b[1m17s\u001b[0m 25ms/step - loss: 47978.2930 - mean_absolute_error: 154.8204 - root_mean_squared_error: 219.0363 - val_loss: 46711.4336 - val_mean_absolute_error: 151.9358 - val_root_mean_squared_error: 216.1283\n",
      "Epoch 49/50\n",
      "\u001b[1m682/682\u001b[0m \u001b[32m━━━━━━━━━━━━━━━━━━━━\u001b[0m\u001b[37m\u001b[0m \u001b[1m18s\u001b[0m 27ms/step - loss: 47662.2031 - mean_absolute_error: 154.7013 - root_mean_squared_error: 218.3094 - val_loss: 47258.7930 - val_mean_absolute_error: 152.8329 - val_root_mean_squared_error: 217.3909\n",
      "Epoch 50/50\n",
      "\u001b[1m682/682\u001b[0m \u001b[32m━━━━━━━━━━━━━━━━━━━━\u001b[0m\u001b[37m\u001b[0m \u001b[1m23s\u001b[0m 33ms/step - loss: 47947.0938 - mean_absolute_error: 154.9105 - root_mean_squared_error: 218.9625 - val_loss: 47782.9531 - val_mean_absolute_error: 153.1899 - val_root_mean_squared_error: 218.5931\n",
      "Restoring model weights from the end of the best epoch: 48.\n"
     ]
    }
   ],
   "source": [
    "# 🔹 4. Entraînement\n",
    "history = model.fit(\n",
    "    X_train, y_train,\n",
    "    validation_split=0.2,\n",
    "    epochs=50,\n",
    "    batch_size=64,\n",
    "    callbacks=[\n",
    "        tf.keras.callbacks.EarlyStopping(monitor='val_loss', patience=7, restore_best_weights=True, verbose=1)\n",
    "    ],\n",
    "    verbose=1\n",
    ")"
   ]
  },
  {
   "cell_type": "code",
   "execution_count": 7,
   "metadata": {},
   "outputs": [
    {
     "name": "stdout",
     "output_type": "stream",
     "text": [
      "\u001b[1m426/426\u001b[0m \u001b[32m━━━━━━━━━━━━━━━━━━━━\u001b[0m\u001b[37m\u001b[0m \u001b[1m5s\u001b[0m 11ms/step - loss: 47369.1367 - mean_absolute_error: 154.0721 - root_mean_squared_error: 217.6037\n",
      "Test RMSE: 214.79 | MAE: 151.87\n"
     ]
    }
   ],
   "source": [
    "# 🔹 5. Évaluation\n",
    "loss, rmse, mae = model.evaluate(X_test, y_test)\n",
    "print(f\"Test RMSE: {rmse:.2f} | MAE: {mae:.2f}\")"
   ]
  },
  {
   "cell_type": "code",
   "execution_count": 8,
   "metadata": {},
   "outputs": [
    {
     "name": "stdout",
     "output_type": "stream",
     "text": [
      "\u001b[1m426/426\u001b[0m \u001b[32m━━━━━━━━━━━━━━━━━━━━\u001b[0m\u001b[37m\u001b[0m \u001b[1m5s\u001b[0m 10ms/step\n"
     ]
    }
   ],
   "source": [
    "# 🔹 6. Visualisation des prédictions réelles vs prédites\n",
    "plt.figure(figsize=(10, 4))\n",
    "y_pred_all = model.predict(X_test).flatten()\n",
    "plt.plot(y_test.values[:100], label='Réel', color='blue')\n",
    "plt.plot(y_pred_all[:100], label='Prédit', color='orange')\n",
    "plt.title(\"Prédictions vs Réel (100 premiers exemples)\")\n",
    "plt.xlabel(\"Index\")\n",
    "plt.ylabel(\"Débit lissé (EMA)\")\n",
    "plt.legend()\n",
    "plt.grid(True, linestyle='--', alpha=0.5)\n",
    "plt.tight_layout()\n",
    "plt.show()"
   ]
  },
  {
   "cell_type": "code",
   "execution_count": null,
   "metadata": {},
   "outputs": [],
   "source": [
    "# 🔹 7. Courbes d'apprentissage\n",
    "plt.figure(figsize=(10, 5))\n",
    "plt.plot(history.history['val_mean_absolute_error'], label='Validation MAE')\n",
    "plt.plot(history.history['val_root_mean_squared_error'], label='Validation RMSE')\n",
    "plt.title(\"Apprentissage du modèle CNN + LSTM sur débit lissé (EMA)\")\n",
    "plt.xlabel(\"Épochs\")\n",
    "plt.ylabel(\"Erreur\")\n",
    "plt.grid(True)\n",
    "plt.legend()\n",
    "plt.tight_layout()\n",
    "plt.show()"
   ]
  }
 ],
 "metadata": {
  "kernelspec": {
   "display_name": "base",
   "language": "python",
   "name": "python3"
  },
  "language_info": {
   "codemirror_mode": {
    "name": "ipython",
    "version": 3
   },
   "file_extension": ".py",
   "mimetype": "text/x-python",
   "name": "python",
   "nbconvert_exporter": "python",
   "pygments_lexer": "ipython3",
   "version": "3.12.4"
  }
 },
 "nbformat": 4,
 "nbformat_minor": 2
}
