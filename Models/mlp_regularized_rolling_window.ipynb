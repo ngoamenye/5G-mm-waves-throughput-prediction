{
 "cells": [
  {
   "cell_type": "markdown",
   "id": "e4801fc6",
   "metadata": {},
   "source": [
    "# ✅ Rolling Window MLP with Regularization & Early Stopping"
   ]
  },
  {
   "cell_type": "code",
   "execution_count": null,
   "id": "e82fb04f",
   "metadata": {},
   "outputs": [],
   "source": [
    "\n",
    "import pandas as pd\n",
    "import numpy as np\n",
    "import torch\n",
    "from torch import nn\n",
    "from torch.utils.data import Dataset, DataLoader, random_split\n",
    "from sklearn.preprocessing import MinMaxScaler\n",
    "import matplotlib.pyplot as plt\n"
   ]
  },
  {
   "cell_type": "code",
   "execution_count": null,
   "id": "062685c3",
   "metadata": {},
   "outputs": [],
   "source": [
    "\n",
    "# Load and preprocess\n",
    "df = pd.read_csv(r\"C:\\Users\\axxiv\\Desktop\\PI\\mm-5G-prepared.csv\")\n",
    "df['Throughput_smoothed'] = df['Throughput'].rolling(window=5, min_periods=1).mean()\n",
    "scaler = MinMaxScaler()\n",
    "df['Throughput_smoothed_scaled'] = scaler.fit_transform(df[['Throughput_smoothed']])\n"
   ]
  },
  {
   "cell_type": "code",
   "execution_count": null,
   "id": "252c2351",
   "metadata": {},
   "outputs": [],
   "source": [
    "\n",
    "class RollingMLPDataset(Dataset):\n",
    "    def __init__(self, series, input_len=48):\n",
    "        self.series = series\n",
    "        self.input_len = input_len\n",
    "\n",
    "    def __len__(self):\n",
    "        return len(self.series) - self.input_len\n",
    "\n",
    "    def __getitem__(self, idx):\n",
    "        x = self.series[idx:idx+self.input_len]\n",
    "        y = self.series[idx+self.input_len]\n",
    "        return torch.tensor(x, dtype=torch.float32), torch.tensor([y], dtype=torch.float32)\n",
    "\n",
    "input_len = 48\n",
    "series = df['Throughput_smoothed_scaled'].values\n",
    "dataset = RollingMLPDataset(series, input_len)\n",
    "train_size = int(0.8 * len(dataset))\n",
    "val_size = len(dataset) - train_size\n",
    "train_ds, val_ds = random_split(dataset, [train_size, val_size])\n",
    "train_dl = DataLoader(train_ds, batch_size=64, shuffle=True)\n",
    "val_dl = DataLoader(val_ds, batch_size=64)\n"
   ]
  },
  {
   "cell_type": "code",
   "execution_count": null,
   "id": "90f69eb3",
   "metadata": {},
   "outputs": [],
   "source": [
    "\n",
    "class SimpleMLP(nn.Module):\n",
    "    def __init__(self, input_len, hidden_dim=64):\n",
    "        super().__init__()\n",
    "        self.model = nn.Sequential(\n",
    "            nn.Linear(input_len, hidden_dim),\n",
    "            nn.ReLU(),\n",
    "            nn.Dropout(0.4),  # Increased dropout\n",
    "            nn.Linear(hidden_dim, 1)\n",
    "        )\n",
    "\n",
    "    def forward(self, x):\n",
    "        return self.model(x)\n",
    "\n",
    "model = SimpleMLP(input_len=input_len)\n"
   ]
  },
  {
   "cell_type": "code",
   "execution_count": null,
   "id": "4da017b1",
   "metadata": {},
   "outputs": [],
   "source": [
    "\n",
    "# Loss, optimizer with weight decay, scheduler\n",
    "loss_fn = nn.MSELoss()\n",
    "optimizer = torch.optim.Adam(model.parameters(), lr=1e-3, weight_decay=1e-4)\n",
    "scheduler = torch.optim.lr_scheduler.StepLR(optimizer, step_size=10, gamma=0.5)\n"
   ]
  },
  {
   "cell_type": "code",
   "execution_count": null,
   "id": "2969fdc1",
   "metadata": {},
   "outputs": [],
   "source": [
    "\n",
    "# Training with early stopping\n",
    "train_losses, val_losses = [], []\n",
    "best_val = float('inf')\n",
    "patience = 5\n",
    "counter = 0\n",
    "best_weights = None\n",
    "\n",
    "for epoch in range(50):\n",
    "    model.train()\n",
    "    batch_losses = []\n",
    "    for xb, yb in train_dl:\n",
    "        pred = model(xb)\n",
    "        loss = loss_fn(pred, yb)\n",
    "        loss.backward()\n",
    "        optimizer.step()\n",
    "        optimizer.zero_grad()\n",
    "        batch_losses.append(loss.item())\n",
    "    train_loss = np.mean(batch_losses)\n",
    "    train_losses.append(train_loss)\n",
    "\n",
    "    model.eval()\n",
    "    with torch.no_grad():\n",
    "        val_loss = np.mean([loss_fn(model(xb), yb).item() for xb, yb in val_dl])\n",
    "    val_losses.append(val_loss)\n",
    "\n",
    "    print(f\"Epoch {epoch+1}: Train = {train_loss:.4f}, Val = {val_loss:.4f}\")\n",
    "    scheduler.step()\n",
    "\n",
    "    if val_loss < best_val:\n",
    "        best_val = val_loss\n",
    "        best_weights = model.state_dict()\n",
    "        counter = 0\n",
    "    else:\n",
    "        counter += 1\n",
    "        if counter >= patience:\n",
    "            print(\"Early stopping triggered.\")\n",
    "            break\n",
    "\n",
    "if best_weights:\n",
    "    model.load_state_dict(best_weights)\n"
   ]
  },
  {
   "cell_type": "code",
   "execution_count": null,
   "id": "ed678f18",
   "metadata": {},
   "outputs": [],
   "source": [
    "\n",
    "# Plot losses\n",
    "plt.plot(train_losses, label='Train Loss')\n",
    "plt.plot(val_losses, label='Val Loss')\n",
    "plt.title(\"MLP with Regularization\")\n",
    "plt.legend()\n",
    "plt.grid(True)\n",
    "plt.show()\n"
   ]
  },
  {
   "cell_type": "code",
   "execution_count": null,
   "id": "92d4d893",
   "metadata": {},
   "outputs": [],
   "source": [
    "\n",
    "# Predictions\n",
    "model.eval()\n",
    "xbatch, ytrue = next(iter(val_dl))\n",
    "with torch.no_grad():\n",
    "    ypred = model(xbatch).squeeze().numpy()\n",
    "\n",
    "ytrue_inv = scaler.inverse_transform(ytrue.numpy().reshape(-1, 1)).flatten()\n",
    "ypred_inv = scaler.inverse_transform(ypred.reshape(-1, 1)).flatten()\n",
    "\n",
    "plt.figure(figsize=(12,5))\n",
    "plt.plot(ytrue_inv, label='True Smoothed')\n",
    "plt.plot(ypred_inv, label='Predicted Smoothed')\n",
    "plt.title(\"Regularized MLP Prediction vs True\")\n",
    "plt.grid(True)\n",
    "plt.legend()\n",
    "plt.show()\n"
   ]
  }
 ],
 "metadata": {},
 "nbformat": 4,
 "nbformat_minor": 5
}