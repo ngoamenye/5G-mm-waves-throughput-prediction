{
 "cells": [
  {
   "cell_type": "markdown",
   "id": "f5b608cf",
   "metadata": {},
   "source": [
    "# 04_offline_tf_cnn_lstm_notebook.ipynb\n",
    "Offline Training and Evaluation of CNN+LSTM TensorFlow Model\n",
    "This notebook trains a CNN+LSTM model on 5G throughput data, visualizes loss curves, computes metrics, and displays a Run 14 heatmap."
   ]
  },
  {
   "cell_type": "markdown",
   "id": "f304f732",
   "metadata": {},
   "source": [
    "## 1. Imports and Configuration"
   ]
  },
  {
   "cell_type": "code",
   "execution_count": 1,
   "id": "947b345e",
   "metadata": {},
   "outputs": [],
   "source": [
    "import os\n",
    "import numpy as np\n",
    "import pandas as pd\n",
    "import joblib\n",
    "import tensorflow as tf\n",
    "from tensorflow.keras import layers, models, callbacks\n",
    "from sklearn.preprocessing import MinMaxScaler\n",
    "from sklearn.model_selection import train_test_split\n",
    "from sklearn.metrics import mean_squared_error, mean_absolute_error, r2_score\n",
    "import matplotlib.pyplot as plt\n",
    "import folium\n",
    "from folium.plugins import HeatMap\n",
    "\n",
    "# Create directories\n",
    "os.makedirs('models', exist_ok=True)\n",
    "os.makedirs('outputs', exist_ok=True)"
   ]
  },
  {
   "cell_type": "markdown",
   "id": "69f4eb28",
   "metadata": {},
   "source": [
    "## 2. Load and Preprocess Data"
   ]
  },
  {
   "cell_type": "code",
   "execution_count": 2,
   "id": "b7731242",
   "metadata": {},
   "outputs": [],
   "source": [
    "# Load dataset\n",
    "df = pd.read_csv('C:/Users/axxiv/Desktop/5g_throughput_dashboard/data/mm-5G-enriched.csv')\n",
    "df.drop(columns=['debit_class'], inplace=True, errors='ignore')\n",
    "\n",
    "# Rolling window parameters\n",
    "SEQ_LEN = 10\n",
    "targets = ['debit_brut', 'debit_lisse']\n",
    "features = df.select_dtypes(include=[np.number]).columns.drop(targets).tolist()\n",
    "\n",
    "# Build sequences\n",
    "X, y_raw, y_smooth, runs = [], [], [], []\n",
    "for run_id, grp in df.groupby('run_num'):\n",
    "    grp = grp.reset_index(drop=True)\n",
    "    for i in range(len(grp) - SEQ_LEN):\n",
    "        X.append(grp.loc[i:i+SEQ_LEN-1, features].values)\n",
    "        y_raw.append(grp.loc[i+SEQ_LEN, 'debit_brut'])\n",
    "        y_smooth.append(grp.loc[i+SEQ_LEN, 'debit_lisse'])\n",
    "        runs.append(run_id)\n",
    "\n",
    "X = np.stack(X)\n",
    "y_raw = np.array(y_raw)\n",
    "y_smooth = np.array(y_smooth)\n",
    "runs = np.array(runs)\n",
    "\n",
    "# Scale features\n",
    "ns, _, nf = X.shape\n",
    "scaler = MinMaxScaler()\n",
    "X_flat = scaler.fit_transform(X.reshape(-1, nf))\n",
    "X = X_flat.reshape(ns, SEQ_LEN, nf)\n",
    "\n",
    "# Save scaler\n",
    "joblib.dump(scaler, 'models/scaler.gz')\n",
    "\n",
    "# Train/validation split\n",
    "X_train, X_val, y_raw_train, y_raw_val, y_smooth_train, y_smooth_val, runs_train, runs_val = train_test_split(\n",
    "    X, y_raw, y_smooth, runs, test_size=0.2, random_state=42, shuffle=False\n",
    ")"
   ]
  },
  {
   "cell_type": "markdown",
   "id": "c409a1b1",
   "metadata": {},
   "source": [
    "## 3. Build and Compile Model"
   ]
  },
  {
   "cell_type": "code",
   "execution_count": 3,
   "id": "1d88ed7f",
   "metadata": {},
   "outputs": [
    {
     "name": "stdout",
     "output_type": "stream",
     "text": [
      "Model: \"model\"\n",
      "__________________________________________________________________________________________________\n",
      " Layer (type)                   Output Shape         Param #     Connected to                     \n",
      "==================================================================================================\n",
      " input_1 (InputLayer)           [(None, 10, 25)]     0           []                               \n",
      "                                                                                                  \n",
      " conv1d (Conv1D)                (None, 10, 32)       2432        ['input_1[0][0]']                \n",
      "                                                                                                  \n",
      " conv1d_1 (Conv1D)              (None, 10, 64)       6208        ['conv1d[0][0]']                 \n",
      "                                                                                                  \n",
      " max_pooling1d (MaxPooling1D)   (None, 5, 64)        0           ['conv1d_1[0][0]']               \n",
      "                                                                                                  \n",
      " lstm (LSTM)                    (None, 64)           33024       ['max_pooling1d[0][0]']          \n",
      "                                                                                                  \n",
      " raw (Dense)                    (None, 1)            65          ['lstm[0][0]']                   \n",
      "                                                                                                  \n",
      " smooth (Dense)                 (None, 1)            65          ['lstm[0][0]']                   \n",
      "                                                                                                  \n",
      "==================================================================================================\n",
      "Total params: 41,794\n",
      "Trainable params: 41,794\n",
      "Non-trainable params: 0\n",
      "__________________________________________________________________________________________________\n"
     ]
    }
   ],
   "source": [
    "input_layer = layers.Input(shape=(SEQ_LEN, nf))\n",
    "x = layers.Conv1D(32, 3, padding='same', activation='relu')(input_layer)\n",
    "x = layers.Conv1D(64, 3, padding='same', activation='relu')(x)\n",
    "x = layers.MaxPooling1D(2)(x)\n",
    "x = layers.LSTM(64)(x)\n",
    "raw_output = layers.Dense(1, name='raw')(x)\n",
    "smooth_output = layers.Dense(1, name='smooth')(x)\n",
    "model = models.Model(inputs=input_layer, outputs=[raw_output, smooth_output])\n",
    "model.compile(optimizer='adam', loss='mse')\n",
    "\n",
    "model.summary()"
   ]
  },
  {
   "cell_type": "markdown",
   "id": "6493a318",
   "metadata": {},
   "source": [
    "## 4. Train with Early Stopping"
   ]
  },
  {
   "cell_type": "code",
   "execution_count": 4,
   "id": "aa10eefe",
   "metadata": {},
   "outputs": [
    {
     "name": "stdout",
     "output_type": "stream",
     "text": [
      "Epoch 1/100\n",
      "1674/1674 [==============================] - 61s 28ms/step - loss: 844905.0000 - raw_loss: 446335.2188 - smooth_loss: 398569.7500 - val_loss: 620844.2500 - val_raw_loss: 330846.1562 - val_smooth_loss: 289998.1250\n",
      "Epoch 2/100\n",
      "1674/1674 [==============================] - 60s 36ms/step - loss: 673619.7500 - raw_loss: 360631.4688 - smooth_loss: 312989.5625 - val_loss: 505000.2188 - val_raw_loss: 272826.5312 - val_smooth_loss: 232173.4062\n",
      "Epoch 3/100\n",
      "1674/1674 [==============================] - 98s 58ms/step - loss: 549957.1250 - raw_loss: 298676.0625 - smooth_loss: 251281.0000 - val_loss: 429847.6250 - val_raw_loss: 235148.3594 - val_smooth_loss: 194699.3906\n",
      "Epoch 4/100\n",
      "1674/1674 [==============================] - 44s 26ms/step - loss: 455400.0938 - raw_loss: 251163.7188 - smooth_loss: 204236.5469 - val_loss: 317658.7500 - val_raw_loss: 178020.4219 - val_smooth_loss: 139638.3594\n",
      "Epoch 5/100\n",
      "1674/1674 [==============================] - 43s 26ms/step - loss: 330342.8125 - raw_loss: 186199.7031 - smooth_loss: 144143.0938 - val_loss: 240392.6406 - val_raw_loss: 137164.7812 - val_smooth_loss: 103227.8125\n",
      "Epoch 6/100\n",
      "1674/1674 [==============================] - 43s 26ms/step - loss: 251863.1094 - raw_loss: 145265.9062 - smooth_loss: 106597.6484 - val_loss: 185711.6719 - val_raw_loss: 108814.4141 - val_smooth_loss: 76897.2344\n",
      "Epoch 7/100\n",
      "1674/1674 [==============================] - 42s 25ms/step - loss: 193355.5625 - raw_loss: 114733.0391 - smooth_loss: 78622.5938 - val_loss: 145393.4219 - val_raw_loss: 88129.4922 - val_smooth_loss: 57263.8555\n",
      "Epoch 8/100\n",
      "1674/1674 [==============================] - 45s 27ms/step - loss: 149174.2188 - raw_loss: 91569.6016 - smooth_loss: 57604.7383 - val_loss: 112991.1562 - val_raw_loss: 70775.4062 - val_smooth_loss: 42215.8242\n",
      "Epoch 9/100\n",
      "1674/1674 [==============================] - 46s 28ms/step - loss: 116712.4766 - raw_loss: 74479.6172 - smooth_loss: 42232.8242 - val_loss: 89718.8516 - val_raw_loss: 58701.4805 - val_smooth_loss: 31017.3242\n",
      "Epoch 10/100\n",
      "1674/1674 [==============================] - 55s 33ms/step - loss: 93275.4062 - raw_loss: 62117.8672 - smooth_loss: 31157.6113 - val_loss: 73455.6328 - val_raw_loss: 50174.2695 - val_smooth_loss: 23281.3262\n",
      "Epoch 11/100\n",
      "1674/1674 [==============================] - 48s 29ms/step - loss: 76759.6250 - raw_loss: 53310.3008 - smooth_loss: 23449.3301 - val_loss: 63803.1680 - val_raw_loss: 45431.5039 - val_smooth_loss: 18371.6875\n",
      "Epoch 12/100\n",
      "1674/1674 [==============================] - 50s 30ms/step - loss: 65253.2773 - raw_loss: 47180.5547 - smooth_loss: 18072.7598 - val_loss: 54192.0352 - val_raw_loss: 40063.9375 - val_smooth_loss: 14128.0967\n",
      "Epoch 13/100\n",
      "1674/1674 [==============================] - 41s 25ms/step - loss: 57252.8789 - raw_loss: 42917.4336 - smooth_loss: 14335.3877 - val_loss: 48563.5664 - val_raw_loss: 37234.0898 - val_smooth_loss: 11329.5205\n",
      "Epoch 14/100\n",
      "1674/1674 [==============================] - 54s 32ms/step - loss: 51492.7539 - raw_loss: 39895.5547 - smooth_loss: 11597.2080 - val_loss: 44216.0312 - val_raw_loss: 35255.0117 - val_smooth_loss: 8961.0078\n",
      "Epoch 15/100\n",
      "1674/1674 [==============================] - 44s 26ms/step - loss: 47088.8984 - raw_loss: 37509.3984 - smooth_loss: 9579.5508 - val_loss: 40983.6094 - val_raw_loss: 33476.7344 - val_smooth_loss: 7506.8750\n",
      "Epoch 16/100\n",
      "1674/1674 [==============================] - 40s 24ms/step - loss: 43985.6094 - raw_loss: 35875.8984 - smooth_loss: 8109.6982 - val_loss: 40347.6211 - val_raw_loss: 32299.8379 - val_smooth_loss: 8047.7920\n",
      "Epoch 17/100\n",
      "1674/1674 [==============================] - 44s 26ms/step - loss: 41354.0938 - raw_loss: 34480.8086 - smooth_loss: 6873.2510 - val_loss: 37966.1250 - val_raw_loss: 31704.1934 - val_smooth_loss: 6261.9282\n",
      "Epoch 18/100\n",
      "1674/1674 [==============================] - 43s 26ms/step - loss: 39128.9531 - raw_loss: 33345.0312 - smooth_loss: 5783.9849 - val_loss: 35815.3906 - val_raw_loss: 30887.7266 - val_smooth_loss: 4927.6621\n",
      "Epoch 19/100\n",
      "1674/1674 [==============================] - 44s 26ms/step - loss: 37374.2148 - raw_loss: 32332.2031 - smooth_loss: 5042.0073 - val_loss: 33691.3516 - val_raw_loss: 29726.3379 - val_smooth_loss: 3965.0159\n",
      "Epoch 20/100\n",
      "1674/1674 [==============================] - 41s 24ms/step - loss: 35994.2266 - raw_loss: 31650.2305 - smooth_loss: 4343.9570 - val_loss: 33332.9180 - val_raw_loss: 29302.4688 - val_smooth_loss: 4030.4431\n",
      "Epoch 21/100\n",
      "1674/1674 [==============================] - 52s 31ms/step - loss: 34855.2383 - raw_loss: 31010.0156 - smooth_loss: 3845.1865 - val_loss: 32006.8184 - val_raw_loss: 28565.3691 - val_smooth_loss: 3441.4304\n",
      "Epoch 22/100\n",
      "1674/1674 [==============================] - 41s 25ms/step - loss: 33973.8594 - raw_loss: 30478.2910 - smooth_loss: 3495.5847 - val_loss: 31753.3359 - val_raw_loss: 28619.3438 - val_smooth_loss: 3133.9941\n",
      "Epoch 23/100\n",
      "1674/1674 [==============================] - 52s 31ms/step - loss: 33214.2773 - raw_loss: 30044.6270 - smooth_loss: 3169.6240 - val_loss: 30731.5469 - val_raw_loss: 27917.2949 - val_smooth_loss: 2814.2268\n",
      "Epoch 24/100\n",
      "1674/1674 [==============================] - 43s 26ms/step - loss: 32611.9492 - raw_loss: 29660.7383 - smooth_loss: 2951.1899 - val_loss: 30281.1875 - val_raw_loss: 27847.0723 - val_smooth_loss: 2434.1150\n",
      "Epoch 25/100\n",
      "1674/1674 [==============================] - 40s 24ms/step - loss: 32136.1387 - raw_loss: 29356.5508 - smooth_loss: 2779.6099 - val_loss: 31010.0156 - val_raw_loss: 28142.1387 - val_smooth_loss: 2867.8706\n",
      "Epoch 26/100\n",
      "1674/1674 [==============================] - 41s 25ms/step - loss: 31732.2441 - raw_loss: 29049.3809 - smooth_loss: 2682.8098 - val_loss: 31234.9512 - val_raw_loss: 28096.0547 - val_smooth_loss: 3138.9065\n",
      "Epoch 27/100\n",
      "1674/1674 [==============================] - 41s 24ms/step - loss: 31296.0859 - raw_loss: 28805.5918 - smooth_loss: 2490.5005 - val_loss: 31844.9043 - val_raw_loss: 28908.1836 - val_smooth_loss: 2936.7095\n",
      "Epoch 28/100\n",
      "1674/1674 [==============================] - 78s 47ms/step - loss: 30899.5879 - raw_loss: 28502.4785 - smooth_loss: 2397.0654 - val_loss: 29313.0273 - val_raw_loss: 27169.8926 - val_smooth_loss: 2143.1411\n",
      "Epoch 29/100\n",
      "1674/1674 [==============================] - 40s 24ms/step - loss: 30678.1230 - raw_loss: 28334.7324 - smooth_loss: 2343.3945 - val_loss: 29798.2070 - val_raw_loss: 27428.8105 - val_smooth_loss: 2369.3948\n",
      "Epoch 30/100\n",
      "1674/1674 [==============================] - 43s 25ms/step - loss: 30333.8086 - raw_loss: 28078.5488 - smooth_loss: 2255.2869 - val_loss: 29135.2969 - val_raw_loss: 27000.8184 - val_smooth_loss: 2134.4692\n",
      "Epoch 31/100\n",
      "1674/1674 [==============================] - 40s 24ms/step - loss: 30061.3223 - raw_loss: 27856.7871 - smooth_loss: 2204.5100 - val_loss: 29737.5098 - val_raw_loss: 27311.7754 - val_smooth_loss: 2425.7292\n",
      "Epoch 32/100\n",
      "1674/1674 [==============================] - 51s 31ms/step - loss: 29915.7793 - raw_loss: 27724.3477 - smooth_loss: 2191.4431 - val_loss: 31963.1484 - val_raw_loss: 28773.9668 - val_smooth_loss: 3189.1721\n",
      "Epoch 33/100\n",
      "1674/1674 [==============================] - 42s 25ms/step - loss: 29570.8516 - raw_loss: 27463.0410 - smooth_loss: 2107.8445 - val_loss: 29430.9297 - val_raw_loss: 27160.9336 - val_smooth_loss: 2269.9836\n",
      "Epoch 34/100\n",
      "1674/1674 [==============================] - 41s 25ms/step - loss: 29430.5137 - raw_loss: 27365.0879 - smooth_loss: 2065.4478 - val_loss: 29440.4375 - val_raw_loss: 27322.1152 - val_smooth_loss: 2118.3196\n",
      "Epoch 35/100\n",
      "1674/1674 [==============================] - 43s 26ms/step - loss: 29186.1602 - raw_loss: 27168.8066 - smooth_loss: 2017.3688 - val_loss: 29926.3301 - val_raw_loss: 27178.8066 - val_smooth_loss: 2747.5186\n",
      "Epoch 36/100\n",
      "1674/1674 [==============================] - 41s 25ms/step - loss: 28986.7559 - raw_loss: 26974.3887 - smooth_loss: 2012.3783 - val_loss: 29116.9004 - val_raw_loss: 27030.0742 - val_smooth_loss: 2086.8220\n",
      "Epoch 37/100\n",
      "1674/1674 [==============================] - 41s 24ms/step - loss: 28824.7969 - raw_loss: 26811.7520 - smooth_loss: 2013.0635 - val_loss: 28831.5293 - val_raw_loss: 26838.4004 - val_smooth_loss: 1993.1277\n",
      "Epoch 38/100\n",
      "1674/1674 [==============================] - 42s 25ms/step - loss: 28623.4727 - raw_loss: 26668.5176 - smooth_loss: 1954.9644 - val_loss: 29198.8691 - val_raw_loss: 27020.8184 - val_smooth_loss: 2178.0583\n",
      "Epoch 39/100\n",
      "1674/1674 [==============================] - 40s 24ms/step - loss: 28445.2363 - raw_loss: 26517.1211 - smooth_loss: 1928.1156 - val_loss: 29238.6973 - val_raw_loss: 27185.1016 - val_smooth_loss: 2053.5962\n",
      "Epoch 40/100\n",
      "1674/1674 [==============================] - 42s 25ms/step - loss: 28256.5410 - raw_loss: 26352.7539 - smooth_loss: 1903.7783 - val_loss: 31483.0469 - val_raw_loss: 28705.4727 - val_smooth_loss: 2777.5623\n",
      "Epoch 41/100\n",
      "1674/1674 [==============================] - 89s 53ms/step - loss: 28117.4746 - raw_loss: 26215.9570 - smooth_loss: 1901.5199 - val_loss: 29668.3281 - val_raw_loss: 27314.3398 - val_smooth_loss: 2353.9844\n",
      "Epoch 42/100\n",
      "1674/1674 [==============================] - 54s 32ms/step - loss: 27933.1465 - raw_loss: 26070.7461 - smooth_loss: 1862.4243 - val_loss: 29635.5020 - val_raw_loss: 27472.9434 - val_smooth_loss: 2162.5598\n",
      "Epoch 43/100\n",
      "1674/1674 [==============================] - 43s 25ms/step - loss: 27815.5469 - raw_loss: 25921.5977 - smooth_loss: 1893.9620 - val_loss: 29665.7930 - val_raw_loss: 27541.6074 - val_smooth_loss: 2124.1909\n",
      "Epoch 44/100\n",
      "1674/1674 [==============================] - 60s 36ms/step - loss: 27601.3848 - raw_loss: 25773.3359 - smooth_loss: 1828.0573 - val_loss: 29137.8242 - val_raw_loss: 27086.0801 - val_smooth_loss: 2051.7295\n",
      "Epoch 45/100\n",
      "1674/1674 [==============================] - 54s 33ms/step - loss: 27466.5527 - raw_loss: 25616.5859 - smooth_loss: 1849.9429 - val_loss: 29145.5156 - val_raw_loss: 27130.7793 - val_smooth_loss: 2014.7401\n",
      "Epoch 46/100\n",
      "1674/1674 [==============================] - 53s 32ms/step - loss: 27334.1758 - raw_loss: 25493.7500 - smooth_loss: 1840.4165 - val_loss: 29143.2910 - val_raw_loss: 26995.9277 - val_smooth_loss: 2147.3503\n",
      "Epoch 47/100\n",
      "1674/1674 [==============================] - 57s 34ms/step - loss: 27142.3340 - raw_loss: 25322.7734 - smooth_loss: 1819.5922 - val_loss: 31547.3730 - val_raw_loss: 28776.6328 - val_smooth_loss: 2770.7478\n"
     ]
    },
    {
     "name": "stderr",
     "output_type": "stream",
     "text": [
      "WARNING:absl:Found untraced functions such as _jit_compiled_convolution_op, _jit_compiled_convolution_op, _update_step_xla, lstm_cell_layer_call_fn, lstm_cell_layer_call_and_return_conditional_losses while saving (showing 5 of 5). These functions will not be directly callable after loading.\n"
     ]
    },
    {
     "name": "stdout",
     "output_type": "stream",
     "text": [
      "INFO:tensorflow:Assets written to: models/throughput_model\\assets\n"
     ]
    },
    {
     "name": "stderr",
     "output_type": "stream",
     "text": [
      "INFO:tensorflow:Assets written to: models/throughput_model\\assets\n"
     ]
    }
   ],
   "source": [
    "es = callbacks.EarlyStopping(monitor='val_loss', patience=10, restore_best_weights=True)\n",
    "history = model.fit(\n",
    "    X_train, [y_raw_train, y_smooth_train],\n",
    "    validation_data=(X_val, [y_raw_val, y_smooth_val]),\n",
    "    epochs=100, batch_size=32, callbacks=[es]\n",
    ")\n",
    "\n",
    "# Save model\n",
    "model.save('models/throughput_model')\n",
    "model.save_weights('models/throughput_weights.h5')"
   ]
  },
  {
   "cell_type": "markdown",
   "id": "40e8fe22",
   "metadata": {},
   "source": [
    "## 5. Loss Curves Visualization"
   ]
  },
  {
   "cell_type": "code",
   "execution_count": 5,
   "id": "dd0e1b12",
   "metadata": {},
   "outputs": [
    {
     "data": {
      "image/png": "[encoded data removed]",
      "text/plain": [
       "<Figure size 800x400 with 1 Axes>"
      ]
     },
     "metadata": {},
     "output_type": "display_data"
    }
   ],
   "source": [
    "# Plot training and validation loss\n",
    "plt.figure(figsize=(8, 4))\n",
    "plt.plot(history.history['loss'], label='Train Loss')\n",
    "plt.plot(history.history['val_loss'], label='Val Loss')\n",
    "plt.title('Training vs. Validation Loss')\n",
    "plt.xlabel('Epoch')\n",
    "plt.ylabel('Loss')\n",
    "plt.legend()\n",
    "plt.show()"
   ]
  },
  {
   "cell_type": "markdown",
   "id": "1094f743",
   "metadata": {},
   "source": [
    "## 6. Evaluation Metrics"
   ]
  },
  {
   "cell_type": "code",
   "execution_count": 6,
   "id": "873060eb",
   "metadata": {},
   "outputs": [
    {
     "name": "stdout",
     "output_type": "stream",
     "text": [
      "419/419 [==============================] - 9s 10ms/step\n"
     ]
    },
    {
     "data": {
      "text/html": [
       "<div>\n",
       "<style scoped>\n",
       "    .dataframe tbody tr th:only-of-type {\n",
       "        vertical-align: middle;\n",
       "    }\n",
       "\n",
       "    .dataframe tbody tr th {\n",
       "        vertical-align: top;\n",
       "    }\n",
       "\n",
       "    .dataframe thead th {\n",
       "        text-align: right;\n",
       "    }\n",
       "</style>\n",
       "<table border=\"1\" class=\"dataframe\">\n",
       "  <thead>\n",
       "    <tr style=\"text-align: right;\">\n",
       "      <th></th>\n",
       "      <th>Metric</th>\n",
       "      <th>Value</th>\n",
       "    </tr>\n",
       "  </thead>\n",
       "  <tbody>\n",
       "    <tr>\n",
       "      <th>0</th>\n",
       "      <td>RMSE Raw</td>\n",
       "      <td>163.824275</td>\n",
       "    </tr>\n",
       "    <tr>\n",
       "      <th>1</th>\n",
       "      <td>RMSE Smooth</td>\n",
       "      <td>44.644460</td>\n",
       "    </tr>\n",
       "    <tr>\n",
       "      <th>2</th>\n",
       "      <td>RMSE Final</td>\n",
       "      <td>144.612867</td>\n",
       "    </tr>\n",
       "    <tr>\n",
       "      <th>3</th>\n",
       "      <td>MAE Final</td>\n",
       "      <td>82.117750</td>\n",
       "    </tr>\n",
       "    <tr>\n",
       "      <th>4</th>\n",
       "      <td>R2 Final</td>\n",
       "      <td>0.899052</td>\n",
       "    </tr>\n",
       "  </tbody>\n",
       "</table>\n",
       "</div>"
      ],
      "text/plain": [
       "        Metric       Value\n",
       "0     RMSE Raw  163.824275\n",
       "1  RMSE Smooth   44.644460\n",
       "2   RMSE Final  144.612867\n",
       "3    MAE Final   82.117750\n",
       "4     R2 Final    0.899052"
      ]
     },
     "execution_count": 6,
     "metadata": {},
     "output_type": "execute_result"
    }
   ],
   "source": [
    "# Predictions on validation\n",
    "pred_raw, pred_smooth = model.predict(X_val)\n",
    "pred_raw = pred_raw.squeeze()\n",
    "pred_smooth = pred_smooth.squeeze()\n",
    "\n",
    "# Switch: choose prediction closest to true raw\n",
    "pred_final = np.where(\n",
    "    np.abs(pred_raw - y_raw_val) < np.abs(pred_smooth - y_raw_val),\n",
    "    pred_raw, pred_smooth\n",
    ")\n",
    "\n",
    "# Compute metrics\n",
    "rmse_raw = np.sqrt(mean_squared_error(y_raw_val, pred_raw))\n",
    "rmse_smooth = np.sqrt(mean_squared_error(y_smooth_val, pred_smooth))\n",
    "rmse_final = np.sqrt(mean_squared_error(y_raw_val, pred_final))\n",
    "mae_final = mean_absolute_error(y_raw_val, pred_final)\n",
    "r2_final = r2_score(y_raw_val, pred_final)\n",
    "\n",
    "# Display metrics\n",
    "metrics = pd.DataFrame({\n",
    "    'Metric': ['RMSE Raw', 'RMSE Smooth', 'RMSE Final', 'MAE Final', 'R2 Final'],\n",
    "    'Value': [rmse_raw, rmse_smooth, rmse_final, mae_final, r2_final]\n",
    "})\n",
    "metrics"
   ]
  },
  {
   "cell_type": "markdown",
   "id": "2ffd3bab",
   "metadata": {},
   "source": [
    "## 7. Run 14 Heatmap via Folium"
   ]
  },
  {
   "cell_type": "code",
   "execution_count": 8,
   "id": "be90914d",
   "metadata": {},
   "outputs": [],
   "source": [
    "import joblib\n",
    "import pickle  # ✅ Ajouté ici\n",
    "\n",
    "# ...\n",
    "\n",
    "# Sauvegarde des artefacts\n",
    "model.save(\"ml_models/throughput_model.keras\")\n",
    "joblib.dump(scaler, \"ml_models/scaler.gz\")\n",
    "\n",
    "with open(\"ml_models/feature_names.pkl\", \"wb\") as f:\n",
    "    pickle.dump(features, f)\n",
    "\n"
   ]
  },
  {
   "cell_type": "code",
   "execution_count": 9,
   "id": "8fe0dff6-f252-4279-af35-ccb45803b8ac",
   "metadata": {},
   "outputs": [
    {
     "name": "stdout",
     "output_type": "stream",
     "text": [
      "✅ Modèle chargé avec succès.\n"
     ]
    }
   ],
   "source": [
    "from tensorflow import keras\n",
    "\n",
    "model_path = \"ml_models/throughput_model.keras\"\n",
    "\n",
    "try:\n",
    "    model = keras.models.load_model(model_path)\n",
    "    print(\"✅ Modèle chargé avec succès.\")\n",
    "except Exception as e:\n",
    "    print(f\"❌ Erreur lors du chargement : {e}\")\n"
   ]
  },
  {
   "cell_type": "code",
   "execution_count": 10,
   "id": "929e3d13-eb7b-4398-aaa1-51393630b6f7",
   "metadata": {},
   "outputs": [],
   "source": [
    "model.save(\"../ml_models/throughput_model.keras\")\n",
    "joblib.dump(scaler, \"../ml_models/scaler.gz\")\n",
    "\n",
    "with open(\"../ml_models/feature_names.pkl\", \"wb\") as f:\n",
    "    pickle.dump(features, f)\n"
   ]
  }
 ],
 "metadata": {
  "kernelspec": {
   "display_name": "venv",
   "language": "python",
   "name": "python3"
  },
  "language_info": {
   "codemirror_mode": {
    "name": "ipython",
    "version": 3
   },
   "file_extension": ".py",
   "mimetype": "text/x-python",
   "name": "python",
   "nbconvert_exporter": "python",
   "pygments_lexer": "ipython3",
   "version": "3.9.0"
  }
 },
 "nbformat": 4,
 "nbformat_minor": 5
}
